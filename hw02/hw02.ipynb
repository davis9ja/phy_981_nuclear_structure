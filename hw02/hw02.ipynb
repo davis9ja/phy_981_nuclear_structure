{
 "cells": [
  {
   "cell_type": "markdown",
   "metadata": {},
   "source": [
    "## This Jupyter notebook answers HW01 questions for PHY 981 Nuclear Structure.\n",
    "\n",
    "Author: Jacob Davison\\\n",
    "Date:   01/26/2021"
   ]
  },
  {
   "cell_type": "code",
   "execution_count": 2,
   "metadata": {},
   "outputs": [],
   "source": [
    "# load packages\n",
    "import numpy as np"
   ]
  },
  {
   "cell_type": "markdown",
   "metadata": {},
   "source": [
    "### HW01 question 5\n",
    "\n",
    "A level of astrophysical interest for the (p,$\\gamma$) reaction in $^{31}$S has a calculated half-life\n",
    "of 1.06 fs. What is the width of this state in eV."
   ]
  },
  {
   "cell_type": "code",
   "execution_count": 5,
   "metadata": {},
   "outputs": [
    {
     "name": "stdout",
     "output_type": "stream",
     "text": [
      "decay width for (p, G) reaction in 31-S, G = 4.304052e-01 eV\n"
     ]
    }
   ],
   "source": [
    "# relationship between half-life and decay width\n",
    "\n",
    "t_half = 1.06*10**-15 #s\n",
    "hbar = 6.582e-22*10**6 # eV s\n",
    "gamma = hbar*np.log(2)/t_half #eV\n",
    "\n",
    "print(\"decay width for (p, G) reaction in 31-S, G = {:e} eV\".format(gamma))"
   ]
  },
  {
   "cell_type": "markdown",
   "metadata": {},
   "source": [
    "The relationship between the decay width $\\Gamma$ and the half-life $T_{1/2}$ is \n",
    "\n",
    "$$\\Gamma T_{1/2} = \\hbar \\ln(2)$$\n",
    "\n",
    "We find the decay width by solving for $\\Gamma$, and then, using the given half-life for the (p,$\\gamma$) of $T_{1/2}$ = 1.06 fs, we compute $\\Gamma$ (paying attention to units). We find that the decay width $\\Gamma$ for this reaction is 0.4304 eV."
   ]
  },
  {
   "cell_type": "markdown",
   "metadata": {},
   "source": [
    "### HW01 question 6\n",
    "\n",
    "The half-life of the 4+ level at 4.248 MeV in $^{20}$Ne is 64 ps. What is the B(E2, $\\downarrow$) for\n",
    "the decay to the 2+ state? The calculated B(E4) to the 0+ state is 10 Wu. What is\n",
    "the branching ratio for this E4 decay?"
   ]
  },
  {
   "cell_type": "code",
   "execution_count": null,
   "metadata": {},
   "outputs": [],
   "source": []
  }
 ],
 "metadata": {
  "kernelspec": {
   "display_name": "Python 3",
   "language": "python",
   "name": "python3"
  },
  "language_info": {
   "codemirror_mode": {
    "name": "ipython",
    "version": 3
   },
   "file_extension": ".py",
   "mimetype": "text/x-python",
   "name": "python",
   "nbconvert_exporter": "python",
   "pygments_lexer": "ipython3",
   "version": "3.8.5"
  }
 },
 "nbformat": 4,
 "nbformat_minor": 4
}
