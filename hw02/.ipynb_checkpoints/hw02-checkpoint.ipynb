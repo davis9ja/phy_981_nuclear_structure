{
 "cells": [
  {
   "cell_type": "markdown",
   "metadata": {},
   "source": [
    "## This Jupyter notebook answers HW01 questions for PHY 981 Nuclear Structure.\n",
    "\n",
    "Author: Jacob Davison\\\n",
    "Date:   01/26/2021"
   ]
  },
  {
   "cell_type": "code",
   "execution_count": 1,
   "metadata": {},
   "outputs": [],
   "source": [
    "# load packages\n",
    "import numpy as np"
   ]
  },
  {
   "cell_type": "markdown",
   "metadata": {},
   "source": [
    "### HW01 question 5\n",
    "\n",
    "A level of astrophysical interest for the (p,$\\gamma$) reaction in $^{31}$S has a calculated half-life\n",
    "of 1.06 fs. What is the width of this state in eV."
   ]
  },
  {
   "cell_type": "code",
   "execution_count": 2,
   "metadata": {},
   "outputs": [
    {
     "name": "stdout",
     "output_type": "stream",
     "text": [
      "decay width for (p, G) reaction in 31-S, G = 4.304052e-01 eV\n"
     ]
    }
   ],
   "source": [
    "# relationship between half-life and decay width\n",
    "\n",
    "t_half = 1.06*10**-15 #s\n",
    "hbar = 6.582e-22*10**6 # eV s\n",
    "gamma = hbar*np.log(2)/t_half #eV\n",
    "\n",
    "print(\"decay width for (p, G) reaction in 31-S, G = {:e} eV\".format(gamma))"
   ]
  },
  {
   "cell_type": "markdown",
   "metadata": {},
   "source": [
    "The relationship between the decay width $\\Gamma$ and the half-life $T_{1/2}$ is \n",
    "\n",
    "$$\\Gamma T_{1/2} = \\hbar \\ln(2)$$\n",
    "\n",
    "We find the decay width by solving for $\\Gamma$, and then, using the given half-life for the (p,$\\gamma$) of $T_{1/2}$ = 1.06 fs, we compute $\\Gamma$ (paying attention to units). We find that the decay width $\\Gamma$ for this reaction is 0.4304 eV."
   ]
  },
  {
   "cell_type": "markdown",
   "metadata": {},
   "source": [
    "### HW01 question 6\n",
    "\n",
    "The half-life of the 4+ level at 4.248 MeV in $^{20}$Ne is 0.064 ps. What is the B(E2, $\\downarrow$) for\n",
    "the decay to the 2+ state? The calculated B(E4) to the 0+ state is 10 Wu. What is\n",
    "the branching ratio for this E4 decay?"
   ]
  },
  {
   "cell_type": "code",
   "execution_count": 7,
   "metadata": {},
   "outputs": [
    {
     "name": "stdout",
     "output_type": "stream",
     "text": [
      "branching fraction b(E4) = 10003936873778.209\n"
     ]
    }
   ],
   "source": [
    "BE4 = 100\n",
    "E_gamma = 4.248\n",
    "t_half = 0.9052e9\n",
    "\n",
    "bE4 = BE4*E_gamma**9*t_half/4076\n",
    "\n",
    "print('branching fraction b(E4) = {:0.3f}'.format(bE4))"
   ]
  },
  {
   "cell_type": "markdown",
   "metadata": {},
   "source": [
    "Here we include a table of excitation energies above the J = 0$^+$ state for $^{20}$Ne.\n",
    "\n",
    "| $^{20}$Ne J$^\\pi$ | Excitation energy (MeV) |\n",
    "------------------- | -------------|\n",
    "| 4$^+$             | 4.248        | \n",
    "| 2$^+$             | 1.633        |\n",
    "| 0$^+$             | 0.0          |\n",
    "\n",
    "Livechart of nuclides: https://www-nds.iaea.org/relnsd/vcharthtml/VChartHTML.html\n",
    "\n",
    "Since we know the half-life of the transition, as well as the gamma energy, we can use the nushell app ``bem`` to compute the B(EL) values.\n",
    "\n",
    "To get the B(E2) for the transition $4^+ \\rightarrow 2^+$ in $^20$Ne, we input the half-life, gamma energy, and mass number into ``bem`` and read off the results. We get\n",
    "\n",
    "$$B(E2) = 72.15.$$\n",
    "\n",
    "To find the branching ratio for the E4, we realize that we can use ``bem`` to find the half-life for the E4 decay by inserting 10 Wu as the argument for half-life; the output in the B(EL) column, then is the half-life. Next, we insert Eq. 7.85 to Eq. 7.89 and solve for b(E4), since we now know the half-life of the E4 decay:\n",
    "\n",
    "$$b(E4) = \\frac{B(E4)*E_\\gamma^9*T_{1/2}}{4076}$$\n",
    "\n",
    "According to ``bem``, T_{1/2} = 0.9052E+9 ps which means that, also according to ``bem``, B(E4) = 100. Finally, "
   ]
  },
  {
   "cell_type": "markdown",
   "metadata": {},
   "source": [
    "### HW01 question 7\n",
    "\n",
    "$^{42}$Ti has a half-life of 209 ms. It beta decays to the ground state of $^{42}$Sc with a branching\n",
    "ratio of 47.7 percent. Calculate the logft value for this decay, and compare with the\n",
    "nuclear data sheets. What are the B(F) and B(GT) values for this decay?"
   ]
  },
  {
   "cell_type": "code",
   "execution_count": 6,
   "metadata": {},
   "outputs": [
    {
     "name": "stdout",
     "output_type": "stream",
     "text": [
      "logft = 3.354\n",
      "B(F) = 2.731\n"
     ]
    }
   ],
   "source": [
    "f = 10808.518\n",
    "# f = 7253.701\n",
    "t_half = 209e-3\n",
    "\n",
    "logft = np.log10(f*t_half)\n",
    "print('logft = {:0.3f}'.format(logft))\n",
    "\n",
    "BF = 6170/10**(logft)\n",
    "print('B(F) = {:0.3f}'.format(BF))"
   ]
  },
  {
   "cell_type": "markdown",
   "metadata": {},
   "source": [
    "We use the app ``ff`` on nushell, providing input Zi=22, Zf=21, A=42, Q=7.016 MeV; according to the output fz=10808.518. To compute the logft, we take \n",
    "\n",
    "$$\\log_{10}ft_{1/2} = \\log_{10}(209\\text{E-3}*10808.518) = 3.354$$\n",
    "\n",
    "We can look at the NNDC 42-Ti level scheme for the decay https://www.nndc.bnl.gov/nudat2/getdecayscheme.jsp?nucleus=42SC&dsid=42ti%20ec%20decay%20(208.65%20ms)&unc=nds, and we compare the given logft value for the branching ratio 47.7% (corresponding to decay to ground state of 42-Sc). The logft for this decay is 3.495 according to the level scheme, which is close to the value we computed.\n",
    "\n",
    "This particular nuclear transition is $0^+ \\rightarrow 0^+$ which means B(GT) = 0 according to Gamow-Teller rules. Then, we can solve Eq. 7.63,\n",
    "\n",
    "$$ft_{1/2} = \\frac{6170}{B(F) + 1.629*B(GT)},$$\n",
    "\n",
    "for B(F), setting B(GT) = 0 so that\n",
    "\n",
    "$$B(F) = \\frac{6170}{ft_{1/2}} = \\frac{6170}{10^{\\log_{10}ft_{1/2}}}.$$\n",
    "\n",
    "We find that B(F) = 2.731."
   ]
  },
  {
   "cell_type": "code",
   "execution_count": null,
   "metadata": {},
   "outputs": [],
   "source": []
  }
 ],
 "metadata": {
  "kernelspec": {
   "display_name": "Python 3",
   "language": "python",
   "name": "python3"
  },
  "language_info": {
   "codemirror_mode": {
    "name": "ipython",
    "version": 3
   },
   "file_extension": ".py",
   "mimetype": "text/x-python",
   "name": "python",
   "nbconvert_exporter": "python",
   "pygments_lexer": "ipython3",
   "version": "3.8.5"
  }
 },
 "nbformat": 4,
 "nbformat_minor": 4
}
