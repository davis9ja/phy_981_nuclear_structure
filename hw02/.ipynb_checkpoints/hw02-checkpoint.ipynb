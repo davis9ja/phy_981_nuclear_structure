{
 "cells": [
  {
   "cell_type": "markdown",
   "metadata": {},
   "source": [
    "## This Jupyter notebook answers HW01 questions for PHY 981 Nuclear Structure.\n",
    "\n",
    "Author: Jacob Davison\\\n",
    "Date:   01/26/2021"
   ]
  },
  {
   "cell_type": "code",
   "execution_count": 1,
   "metadata": {},
   "outputs": [],
   "source": [
    "# load packages\n",
    "import numpy as np"
   ]
  },
  {
   "cell_type": "markdown",
   "metadata": {},
   "source": [
    "### HW02 question 5\n",
    "\n",
    "A level of astrophysical interest for the (p,$\\gamma$) reaction in $^{31}$S has a calculated half-life\n",
    "of 1.06 fs. What is the width of this state in eV."
   ]
  },
  {
   "cell_type": "code",
   "execution_count": 2,
   "metadata": {},
   "outputs": [
    {
     "name": "stdout",
     "output_type": "stream",
     "text": [
      "decay width for (p, G) reaction in 31-S, G = 4.304052e-01 eV\n"
     ]
    }
   ],
   "source": [
    "# relationship between half-life and decay width\n",
    "\n",
    "t_half = 1.06*10**-15 #s\n",
    "hbar = 6.582e-22*10**6 # eV s\n",
    "gamma = hbar*np.log(2)/t_half #eV\n",
    "\n",
    "print(\"decay width for (p, G) reaction in 31-S, G = {:e} eV\".format(gamma))"
   ]
  },
  {
   "cell_type": "markdown",
   "metadata": {},
   "source": [
    "The relationship between the decay width $\\Gamma$ and the half-life $T_{1/2}$ is \n",
    "\n",
    "$$\\Gamma T_{1/2} = \\hbar \\ln(2)$$\n",
    "\n",
    "We find the decay width by solving for $\\Gamma$, and then, using the given half-life for the (p,$\\gamma$) of $T_{1/2}$ = 1.06 fs, we compute $\\Gamma$ (paying attention to units). We find that the decay width $\\Gamma$ for this reaction is 0.4304 eV."
   ]
  },
  {
   "cell_type": "markdown",
   "metadata": {},
   "source": [
    "### HW02 question 6\n",
    "\n",
    "The half-life of the 4+ level at 4.248 MeV in $^{20}$Ne is 0.064 ps. What is the B(E2, $\\downarrow$) for\n",
    "the decay to the 2+ state? The calculated B(E4) to the 0+ state is 10 Wu. What is\n",
    "the branching ratio for this E4 decay?"
   ]
  },
  {
   "cell_type": "code",
   "execution_count": 3,
   "metadata": {},
   "outputs": [
    {
     "name": "stdout",
     "output_type": "stream",
     "text": [
      "branching fraction b(E4) = 7.073e-09\n"
     ]
    }
   ],
   "source": [
    "BE4 = 1000\n",
    "E_gamma = 4.248\n",
    "# t_half = 0.9052e8\n",
    "\n",
    "Tp = 4076/(E_gamma**9*1000)\n",
    "bE4 = 0.064e-12/Tp\n",
    "\n",
    "print('branching fraction b(E4) = {:0.3e}'.format(bE4))"
   ]
  },
  {
   "cell_type": "markdown",
   "metadata": {},
   "source": [
    "Here we include a table of excitation energies above the J = 0$^+$ state for $^{20}$Ne.\n",
    "\n",
    "| $^{20}$Ne J$^\\pi$ | Excitation energy (MeV) |\n",
    "------------------- | -------------|\n",
    "| 4$^+$             | 4.248        | \n",
    "| 2$^+$             | 1.633        |\n",
    "| 0$^+$             | 0.0          |\n",
    "\n",
    "Livechart of nuclides: https://www-nds.iaea.org/relnsd/vcharthtml/VChartHTML.html\n",
    "\n",
    "Since we know the half-life of the transition, as well as the gamma energy, we can use the nushell app ``bem`` to compute the B(EL) values.\n",
    "\n",
    "To get the B(E2) for the transition $4^+ \\rightarrow 2^+$ in $^{20}$Ne, we input the half-life, gamma energy, and mass number into ``bem`` and read off the results. We get\n",
    "\n",
    "$$B(E2) = 72.15.$$\n",
    "\n",
    "To find the branching ratio for the E4, we realize that we can use ``bem`` to find the half-life for the E4 decay by inserting (10 Wu)x10 as the argument for half-life, which would be the B(E4) for all 10 nucleons decaying in $^{20}$Ne; the output in the B(EL) column, then is the half-life of the E4 transition. We insert this half-life back into ``bem`` to get the B(E4) in units that we we can use in Eq. 7.89. Next, we solve Eq. 7.89 for T$_p$:\n",
    "\n",
    "$$T_p = \\frac{4076}{E_\\gamma^9*B(E4)}.$$\n",
    "\n",
    "Finally, to get the branching fraction, we compute\n",
    "\n",
    "$$b = \\frac{T_{1/2}}{T_p} = \\frac{0.064\\text{E-12 s}}{T_p} = 7.073\\text{E-9%}.$$\n",
    "\n",
    "Such a small branching fraction means that the transition is not common."
   ]
  },
  {
   "cell_type": "markdown",
   "metadata": {},
   "source": [
    "### HW02 question 7\n",
    "\n",
    "$^{42}$Ti has a half-life of 209 ms. It beta decays to the ground state of $^{42}$Sc with a branching\n",
    "ratio of 47.7 percent. Calculate the logft value for this decay, and compare with the\n",
    "nuclear data sheets. What are the B(F) and B(GT) values for this decay?"
   ]
  },
  {
   "cell_type": "code",
   "execution_count": 4,
   "metadata": {},
   "outputs": [
    {
     "name": "stdout",
     "output_type": "stream",
     "text": [
      "logft = 3.354\n",
      "B(F) = 2.731\n"
     ]
    }
   ],
   "source": [
    "f = 10808.518\n",
    "# f = 7253.701\n",
    "t_half = 209e-3\n",
    "\n",
    "logft = np.log10(f*t_half)\n",
    "print('logft = {:0.3f}'.format(logft))\n",
    "\n",
    "BF = 6170/10**(logft)\n",
    "print('B(F) = {:0.3f}'.format(BF))"
   ]
  },
  {
   "cell_type": "markdown",
   "metadata": {},
   "source": [
    "We use the app ``ff`` on nushell, providing input Zi=22, Zf=21, A=42, Q=7.016 MeV; according to the output fz=10808.518. To compute the logft, we take \n",
    "\n",
    "$$\\log_{10}ft_{1/2} = \\log_{10}(209\\text{E-3}*10808.518) = 3.354$$\n",
    "\n",
    "We can look at the NNDC 42-Ti level scheme for the decay https://www.nndc.bnl.gov/nudat2/getdecayscheme.jsp?nucleus=42SC&dsid=42ti%20ec%20decay%20(208.65%20ms)&unc=nds, and we compare the given logft value for the branching ratio 47.7% (corresponding to decay to ground state of 42-Sc). The logft for this decay is 3.495 according to the level scheme, which is close to the value we computed.\n",
    "\n",
    "This particular nuclear transition is $0^+ \\rightarrow 0^+$ which means B(GT) = 0 according to Gamow-Teller rules. Then, we can solve Eq. 7.63,\n",
    "\n",
    "$$ft_{1/2} = \\frac{6170}{B(F) + 1.629*B(GT)},$$\n",
    "\n",
    "for B(F), setting B(GT) = 0 so that\n",
    "\n",
    "$$B(F) = \\frac{6170}{ft_{1/2}} = \\frac{6170}{10^{\\log_{10}ft_{1/2}}}.$$\n",
    "\n",
    "We find that B(F) = 2.731."
   ]
  },
  {
   "cell_type": "markdown",
   "metadata": {},
   "source": [
    "### HW02 question 8\n",
    "\n",
    "What is the classical turning radius scattering of $^{14}$C on $^{233}$Ra?"
   ]
  },
  {
   "cell_type": "code",
   "execution_count": 5,
   "metadata": {},
   "outputs": [
    {
     "name": "stdout",
     "output_type": "stream",
     "text": [
      "233-Ra Q_alpha = 2547.16 keV\n",
      "Turning radius R_c = 3.32e+01 fm\n"
     ]
    }
   ],
   "source": [
    "BE_Ra = 1767435.48\n",
    "BE_alpha = 28295.66\n",
    "BE_Rn = 1741686.98\n",
    "\n",
    "Q_alpha = BE_Rn + BE_alpha - BE_Ra\n",
    "print('233-Ra Q_alpha = {:0.2f} keV'.format(Q_alpha))\n",
    "\n",
    "R_c = 2*88*1440/(3*Q_alpha)\n",
    "print('Turning radius R_c = {:0.2e} fm'.format(R_c))"
   ]
  },
  {
   "cell_type": "markdown",
   "metadata": {},
   "source": [
    "The equation for classical turning radius for alpha scattering is\n",
    "\n",
    "$$R_c = \\frac{2 Z_d e^2}{Q_\\alpha}$$\n",
    "\n",
    "where $Q_\\alpha$ is the energy of one alpha particle emitted by $^{233}$Ra, Z$_d$ = 88, and e$^2$ = 1440 keV fm. To compute the classical turning radius of $^{14}$C on $^{233}$Ra, consider the Q$_\\alpha$ to be the incident energy of the $^{14}$C, which corresponds to 3 x Q$_\\alpha$ of $^{233}$Ra. First, we compute the $Q_\\alpha$ for $^{233}$Ra according to Eq. 7.15. Then, we plug our results into the equation above and find the turning radius \n",
    "\n",
    "$$R_c = 33.2 \\text{ fm}$$\n",
    "\n",
    "Binding energies required to compute Q$_\\alpha$ come from https://www.nndc.bnl.gov/nudat2/reColor.jsp?newColor=qa"
   ]
  },
  {
   "cell_type": "markdown",
   "metadata": {},
   "source": [
    "### HW02 question 9\n",
    "\n",
    "Estimate the alpha-decay half-life of 208Pb and 216Rn. Compare to experiment."
   ]
  },
  {
   "cell_type": "code",
   "execution_count": 6,
   "metadata": {},
   "outputs": [
    {
     "name": "stdout",
     "output_type": "stream",
     "text": [
      "Estimated t_half for 208-Pb = 2.118e+162\n",
      "Estimated t_half for 216-Rn = 1.625e+19\n"
     ]
    }
   ],
   "source": [
    "def compute_alpha_half_life(A, Z, BE_A, BE_Am4, mass_A):\n",
    "    R_d = 1.2*A**(1/3) #fm\n",
    "    R_alpha = 2.15 #fm\n",
    "    R_t = R_d + R_alpha #fm\n",
    "    \n",
    "    BE_alpha = 28.29566 #MeV\n",
    "    e_sq = 1.440 # MeV fm\n",
    "    \n",
    "    Q_alpha = BE_Am4 + BE_alpha - BE_A\n",
    "    \n",
    "    reduced_mass = mass_A*4.003/(mass_A + 4.003)*931 #MeV \n",
    "    \n",
    "    W_c = np.sqrt(Q_alpha/(2*reduced_mass*R_t**2))\n",
    "    R_c = 2*Z*e_sq/(Q_alpha)\n",
    "    \n",
    "    hbar_c_sq = (197)**2 # MeV s c^2\n",
    "    x = np.sqrt(R_t/R_c)\n",
    "    P = np.exp(-4*Z*e_sq*np.sqrt(2*reduced_mass/(Q_alpha*hbar_c_sq))*(np.arccos(x)-x*np.sqrt(1-x**2)))\n",
    "\n",
    "    t_half = np.log(2)/(W_c*P)\n",
    "    \n",
    "    return t_half\n",
    "\n",
    "t_half_pb = compute_alpha_half_life(208,82,1636.430,1608.651,207.977)\n",
    "t_half_rn = compute_alpha_half_life(216,86,1675.870,1655.771,216.000)\n",
    "\n",
    "print('Estimated t_half for 208-Pb = {:0.3e}'.format(t_half_pb))\n",
    "print('Estimated t_half for 216-Rn = {:0.3e}'.format(t_half_rn))\n"
   ]
  },
  {
   "cell_type": "markdown",
   "metadata": {},
   "source": [
    "I tried to compute all the relevant equations from Pg 129-135 in order to get to Eq. 7.20. The results I come up with don't make sense, however. 208-Pb half-life should be large since it's a stable isotope (but maybe not 10$^162$), but the 216-Rn half-life should be on the order of microseconds. I think I am missing some unit consistency and that's why I'm getting some huge numbers, but I can't figure out where the inconsistency is coming from."
   ]
  },
  {
   "cell_type": "code",
   "execution_count": null,
   "metadata": {},
   "outputs": [],
   "source": []
  }
 ],
 "metadata": {
  "kernelspec": {
   "display_name": "Python 3",
   "language": "python",
   "name": "python3"
  },
  "language_info": {
   "codemirror_mode": {
    "name": "ipython",
    "version": 3
   },
   "file_extension": ".py",
   "mimetype": "text/x-python",
   "name": "python",
   "nbconvert_exporter": "python",
   "pygments_lexer": "ipython3",
   "version": "3.8.5"
  }
 },
 "nbformat": 4,
 "nbformat_minor": 4
}
