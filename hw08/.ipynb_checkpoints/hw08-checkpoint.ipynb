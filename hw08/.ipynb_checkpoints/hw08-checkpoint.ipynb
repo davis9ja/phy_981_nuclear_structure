{
 "cells": [
  {
   "cell_type": "markdown",
   "metadata": {},
   "source": [
    "## This Jupyter notebook answers HW08 questions for PHY 981 Nuclear Structure.\n",
    "\n",
    "Author: Jacob Davison\\\n",
    "Date:   03/09/2021"
   ]
  },
  {
   "cell_type": "markdown",
   "metadata": {},
   "source": [
    "### HW08 question 3\n",
    "\n",
    "Calculate the magnetic moments for 17O and 17F. Compare to experiment."
   ]
  },
  {
   "cell_type": "markdown",
   "metadata": {},
   "source": [
    "Eq. 18.24 \n",
    "\n",
    "$$\\frac{\\mu}{\\mu_N}=j\\left[g_q^\\ell \\pm \\frac{g_q^s - g_q^\\ell}{2\\ell+1}\\right]$$\n",
    "\n",
    "In O-17 we look at the neutron, since the protons are in a closed shell. Looking at the $0d_{5/2}$ neutron orbit, we calculate $\\mu/\\mu_N$ as\n",
    "\n",
    "$$\\frac{\\mu}{\\mu_N}=\\frac{5}{2}\\left[0 + \\frac{-3.826 - 0}{2(2)+1}\\right] = -1.913$$\n",
    "\n",
    "The experimental O-17 $\\mu$=−1.89379.\n",
    "\n",
    "\n",
    "In F-17 we look at the proton, since the neutrons are in a closed shell. Again, looking at the $0d5/2$ proton orbit, the magnetic moment is\n",
    "\n",
    "$$\\frac{\\mu}{\\mu_N}=\\frac{5}{2}\\left[1 + \\frac{5.586 - 1}{2(2)+1}\\right] = 4.793$$\n",
    "\n",
    "The experimental F-17 $\\mu$=4.7223\n"
   ]
  },
  {
   "cell_type": "markdown",
   "metadata": {},
   "source": [
    "### HW08 question 4\n",
    "\n",
    "Calculate the quadrupole moments for 17O and 17F. Use harmonic oscilaltor-\n",
    "radial wave functions with $\\hbar\\omega$ = 14 MeV. Compare to experiment.\n",
    "\n",
    "Eq. 18.31 (single-particle quadrupole moment)\n",
    "\n",
    "$$\\frac{Q(i)}{e} = -\\left(\\frac{2\\ell}{2\\ell+3}\\right)\\langle n\\ell j|r^2|n\\ell j\\rangle e_q$$\n",
    "\n",
    "The quadrupole moment for 17O is zero, because the protons are in a closed shell and the neutron charge $e_n$ is zero.\n",
    "\n",
    "The quadrupole moment for 17F (neutrons are in a closed shell; single proton particle state above the closed shell) is\n",
    "\n",
    "$$\\frac{Q(i)}{e} = -\\left(\\frac{2(2)}{2(2)+3}\\right)\\langle 0d5/2|r^2|0d5/2\\rangle e_p$$\n",
    "\n",
    "The matrix element $\\langle 0d5/2|r^2|0d5/2\\rangle$ we compute using the nushell app `rme`, multiplied by $b^2$ = 41.1/14 fm$^2$ with $\\hbar\\omega$=14 MeV.\n",
    "\n",
    "$$\\frac{Q(i)}{e} = -\\left(\\frac{4}{7}\\right)3.5*\\frac{41.1}{14}(1) = - 5.91 \\text{ fm}^2$$\n"
   ]
  },
  {
   "cell_type": "markdown",
   "metadata": {},
   "source": [
    "### HW08 question 5\n",
    "\n",
    "Calculate the quadrupole moments for 17O and 17F. Use Woods-Saxon radial\n",
    "matrix elements given in the output of `wspot`.\n",
    "\n",
    "The quadrupole moment for 17O is zero because the protons are in a closed shell and the neutron charge $e_n$ is zero.\n",
    "\n",
    "For 17F, we have the same equation as the previous question, except the $r^2$ matrix element will be computed in a Woods-Saxon potential. From `wspot`, the RMS radius is 3.719, so the $r^2$ matrix element is 13.83.\n",
    "\n",
    "$$\\frac{Q(i)}{e} = -\\left(\\frac{4}{7}\\right)13.83(1) = - 7.90 \\text{ fm}^2$$"
   ]
  },
  {
   "cell_type": "markdown",
   "metadata": {},
   "source": [
    "### HW08 question 6\n",
    "\n",
    "Calculate the quadrupole moments for 17O and 17F. Use radial matrix ele-\n",
    "ments given in the output of dens with the Skyrme skx EDF potential.\n",
    "\n",
    "Again, the 17O quadrupole moment is zero.\n",
    "\n",
    "For 17F, we get the $r^2$ matrix element from the output of `dens`. For `ia,iz`=17,9, `dens` gives the RMS radius of 2.853 which means the $r^2$ matrix element computed in a Skyrme EDF potential is 8.140\n",
    "\n",
    "$$\\frac{Q(i)}{e} = -\\left(\\frac{4}{7}\\right)8.140(1) = - 4.65 \\text{ fm}^2$$"
   ]
  },
  {
   "cell_type": "markdown",
   "metadata": {},
   "source": [
    "### HW08 question 7\n",
    "\n",
    "Obtain the values of c in Eq. 19.46 from the Fermi gas model, for symmetric\n",
    "nuclear matter, for neutron matter and for the symmetry energy.\n",
    "\n",
    "The value of $c$ in Eq 19.46 depends on asymmetry factor $F_{5/3}(I) = \\frac{1}{2}\\left[(1+I)^{5/3} + (1-I)^{5/3}\\right]$ where $I=(N-Z)/A$. \n",
    "\n",
    "For symmetric nuclear matter, N=Z and I=0. Therefore,\n",
    "\n",
    "$$F_{5/3}(I=0) = \\frac{1}{2}\\left[(1)^{5/3} + (1)^{5/3}\\right] = 0.5$$\n",
    "\n",
    "And \n",
    "\n",
    "$$c = \\frac{3}{5}\\frac{\\hbar^2}{2m}\\left(\\frac{3\\pi^2}{2}\\right)^{2/3}\\times\\frac{1}{2}$$\n",
    "\n",
    "For neutron matter, Z=0 and I=1. Therefore,\n",
    "\n",
    "$$F_{5/3}(I=1) = \\frac{1}{2}\\left[(2)^{5/3} + (0)^{5/3}\\right] = 1.587$$\n",
    "\n",
    "And\n",
    "\n",
    "$$c = \\frac{3}{5}\\frac{\\hbar^2}{2m}\\left(\\frac{3\\pi^2}{2}\\right)^{2/3}\\times 1.587$$\n",
    "\n",
    "The symmetry energy comes from the difference between the symmetric nuclear matter and neutron matter \\[E/A\\], which is dependent on the factor $(F_{5/3}(I=1)-F_{5/3}(I=0)) =  (1.587-0.5) = 1.087$. In this case,\n",
    "\n",
    "$$c = \\frac{3}{5}\\frac{\\hbar^2}{2m}\\left(\\frac{3\\pi^2}{2}\\right)^{2/3}\\times 1.087$$"
   ]
  },
  {
   "cell_type": "code",
   "execution_count": null,
   "metadata": {},
   "outputs": [],
   "source": []
  }
 ],
 "metadata": {
  "kernelspec": {
   "display_name": "Python 3",
   "language": "python",
   "name": "python3"
  },
  "language_info": {
   "codemirror_mode": {
    "name": "ipython",
    "version": 3
   },
   "file_extension": ".py",
   "mimetype": "text/x-python",
   "name": "python",
   "nbconvert_exporter": "python",
   "pygments_lexer": "ipython3",
   "version": "3.8.5"
  }
 },
 "nbformat": 4,
 "nbformat_minor": 4
}
