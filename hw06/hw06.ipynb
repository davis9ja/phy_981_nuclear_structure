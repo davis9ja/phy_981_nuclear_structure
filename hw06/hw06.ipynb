{
 "cells": [
  {
   "cell_type": "markdown",
   "metadata": {},
   "source": [
    "## This Jupyter notebook answers HW06 questions for PHY 981 Nuclear Structure.\n",
    "\n",
    "Author: Jacob Davison\\\n",
    "Date:   02/25/2021"
   ]
  },
  {
   "cell_type": "markdown",
   "metadata": {},
   "source": [
    "### HW06 question 3\n",
    "\n",
    "132Sn is a good doubly-magic nucleus. What are the $(n, \\ell, j)$ values associated\n",
    "with the ground state $J^\\pi$ of 131Sn, 133Sn, 131In and 133Sb. Use binding energies\n",
    "to find the single-particle (hole) energies associated with these states. What\n",
    "is the single-particle energy of the proton $0h_{11/2}$ state?"
   ]
  },
  {
   "cell_type": "markdown",
   "metadata": {},
   "source": [
    "Single-particle energies can be computed empirically, according ot HF theory. HF theory stipulates the single-particle energy:\n",
    "\n",
    "$$\\epsilon(\\alpha) = E(C, \\alpha) - E(C) = E(C) - E(C,\\alpha^{-1})\\\\E = -BE + E_x$$\n",
    "\n",
    "where $E_x$ is the excitation energy associated with the single particle state $\\alpha$."
   ]
  },
  {
   "cell_type": "markdown",
   "metadata": {},
   "source": [
    "We will need the ground state binding energies of the isotopes of interest.\n",
    "\n",
    "|Isotope|N|Z|BE (MeV)|$J^\\pi$|$(n,\\ell,j)$|\n",
    "|-------|-|-|--------|-------|------------|\n",
    "|132Sn  |82|50|1102.843|$0^+$  |(0,0,0)   |\n",
    "|131Sn  |81|50|1095.490|$3/2^+$|(1,2,3/2) |\n",
    "|133Sn  |83|50|1105.242|$7/2^-$|(1,3,7/2) |\n",
    "|131In  |82|49|1087.033|$9/2^+$|(0,4,9/2) |\n",
    "|133Sb  |82|51|1112.509|$7/2^+$|(0,4,7/2) |"
   ]
  },
  {
   "cell_type": "markdown",
   "metadata": {},
   "source": [
    "Relative to 132Sn, the remaining isotopes can be used to find the single-particle energies of the HF potential, according to the equation above.\n",
    "\n",
    "$$\n",
    "\\begin{aligned}\n",
    "E(132Sn) &= E(C) = 1102.843\\text{ MeV} \\\\\n",
    "\\epsilon(0p_{3/2}\\text{;neutron}) &= E(132Sn) - E(132Sn,(0p_{3/2})^{-1};neutron) \\\\&= E(132Sn) - E(131Sn)=-17.353\\text{ MeV}\\\\\n",
    "\\epsilon(0f_{7/2}\\text{;neutron}) &= E(132Sn,(0f_{7/2});neutron) - E(132Sn) \\\\&= E(133Sn) - E(132Sn)=-2.399\\text{ MeV}\\\\\n",
    "\\epsilon(0g_{9/2}\\text{;proton}) &= E(132Sn) - E(132Sn,(0g_{9/2})^{-1};proton) \\\\&= E(132Sn) - E(131In)=-15.810\\text{ MeV}\\\\\n",
    "\\epsilon(0f_{7/2}\\text{;proton}) &= E(132Sn,(0f_{7/2});proton) - E(132Sn) \\\\&= E(133Sb) - E(132Sn)=-9.666\\text{ MeV}\n",
    "\\end{aligned}\n",
    "$$"
   ]
  },
  {
   "cell_type": "markdown",
   "metadata": {},
   "source": [
    "To find the single-particle energy of the proton in the $0h_{11/2}$ state, we will need the $E_x$ associated with the $11/2^-$ state in 133Sb. This is $E_{11/2^-}$ = 2.792 MeV. Then, we find that\n",
    "\n",
    "$$E(132Sn,0h_{11/2^-};proton) = -BE(133Sb) + E_{11/2^-} = -1112.509 + 2.972 \\text{ (MeV)}.$$\n",
    "\n",
    "Finally,\n",
    "\n",
    "$$\\epsilon(0h_{11/2^-};proton) = E(132Sn,0h_{11/2^-};proton) - E(132Sn) \\\\= -BE(133Sb) + E_{11/2^-} - E(132Sn) = -6.694\\text{ MeV}$$"
   ]
  },
  {
   "cell_type": "markdown",
   "metadata": {},
   "source": [
    "### HW06 question 4\n",
    "\n",
    "Use the harmonic-oscillator model with $\\hbar\\omega$=14 MeV to find the rms proton\n",
    "radius for 20Ne. What is the total kinetic energy for 20Ne?"
   ]
  },
  {
   "cell_type": "markdown",
   "metadata": {},
   "source": [
    "Ne $\\implies$ Z=10. Which means that $N_{max}$ = 2. However, only the N=0,1 levels are completely filled; N=2 is partially filled. There are only two states that will be filled in the N=2 major shell. Then, to find the $R_p^2$, we use the Eq. 16.11\n",
    "\n",
    "$$\n",
    "\\begin{align}\n",
    "R_p^2 &= \\frac{D_0<0|r^2|0> + D_1<1|r^2|1> + 2<2|r^2|2>}{2+6+2}\\\\\n",
    "&= \\frac{2\\times3/2b^2 + 6\\times5/2b^2+2\\times7/2b^2}{10}\n",
    "\\end{align}\n",
    "$$\n",
    "\n",
    "where $b^2$ is given by \n",
    "\n",
    "$$b^2 = \\frac{41.4\\text{ MeV fm}^2}{\\hbar\\omega}$$\n",
    "\n",
    "and in our problem, $\\hbar\\omega = 14\\text{ MeV}$.\n",
    "\n",
    "Finally, our equation becomes\n",
    "\n",
    "$$\n",
    "\\begin{align}\n",
    "R_p^2 &= \\frac{25}{10}\\frac{41.4\\text{MeV fm}^2}{14\\text{ MeV}}=7.39\\text{ fm}^2\\\\\n",
    "R_p &= 2.72\\text{ fm}\n",
    "\\end{align}\n",
    "$$\n",
    "\n",
    "Lastly, according to virial theorem, the total kinetic energy should be\n",
    "\n",
    "$$T = \\frac{\\hbar\\omega}{2}(2\\times\\frac{3}{2} + 6\\times\\frac{5}{2} + 2\\frac{7}{2}) = \\frac{25}{2}\\hbar\\omega = 175\\text{ MeV}$$"
   ]
  },
  {
   "cell_type": "markdown",
   "metadata": {},
   "source": [
    "### HW06 question 5\n",
    "\n",
    "Derive Eq. 16.45.\n",
    "\n",
    "Eq. 16.45\n",
    "\n",
    "$$\\sum_i^A\\vec{\\rho}_i = 0$$\n",
    "\n",
    "where $\\vec{\\rho}_i = \\vec{r}_i - \\vec{R}$ and $\\vec{R} = 1/A\\sum_i^A\\vec{r}_i$"
   ]
  },
  {
   "cell_type": "markdown",
   "metadata": {},
   "source": [
    "We begin by writing out the LHS of the sum in terms of $\\vec{r}_i$ and $\\vec{R}$.\n",
    "\n",
    "$$\n",
    "\\begin{align}\n",
    "\\sum_i^A(\\vec{r}_i - \\vec{R}) &= \\sum_i^A\\left(\\vec{r}_i - \\frac{1}{A}\\sum_i^A\\vec{r}_i\\right)\\\\\n",
    "&= \\sum_i^A\\vec{r}_i - \\frac{1}{A}\\sum_i^A\\sum_i^A\\vec{r}_i =  \\sum_i^A\\vec{r}_i - \\frac{A}{A}\\sum_i^A\\vec{r}_i \\\\\n",
    "&= 0\n",
    "\\end{align}\n",
    "$$"
   ]
  },
  {
   "cell_type": "markdown",
   "metadata": {},
   "source": [
    "### HW06 question 6\n",
    "\n",
    "Derive Eq. 16.59.\n",
    "\n",
    "Eq. 16.59\n",
    "\n",
    "$$\\sum_i^AU^{HO}(r_i) =\\\\\\frac{1}{2}m\\omega^2\\sum_i^Ar_i^2 = \\frac{1}{2}m\\omega^2\\sum_i^A\\rho_i^2 + \\frac{1}{2}\\omega^2MR^2$$"
   ]
  },
  {
   "cell_type": "markdown",
   "metadata": {},
   "source": [
    "We want to show, in the bottom equation, that the LHS comes to the RHS when we switch to the relative coordinate system. We begin with the LHS writing $r_i^2$ in terms of the relative coordinate.\n",
    "\n",
    "$$\n",
    "\\begin{align}\n",
    "\\frac{1}{2}m\\omega^2\\sum_i^Ar_i^2 &= \\frac{1}{2}m\\omega^2\\sum_i^A(\\vec{\\rho}_i + \\vec{R})^2\\\\\n",
    "&= \\frac{1}{2}m\\omega^2\\sum_i^A(\\rho_i^2 + R^2 + 2\\vec{\\rho}_i\\cdotp\\vec{R})\\\\\n",
    "&= \\frac{1}{2}m\\omega^2\\sum_i^A\\rho_i^2 + \\frac{1}{2}(mA)\\omega^2R^2 + 2\\frac{1}{2}m\\omega^2\\left(\\sum_i^A\\vec{\\rho}_i\\right)\\cdotp\\vec{R}\n",
    "\\end{align}\n",
    "$$\n",
    "\n",
    "The result of question 5, combined with the fact that $(mA) = M$ where $M$ is the total nuclear mass (assuming proton and neutron mass is approximately the same), gives us the result we want\n",
    "\n",
    "$$\\frac{1}{2}m\\omega^2\\sum_i^Ar_i^2 = \\frac{1}{2}m\\omega^2\\sum_i^A\\rho_i^2 + \\frac{1}{2}M\\omega^2R^2$$"
   ]
  },
  {
   "cell_type": "markdown",
   "metadata": {},
   "source": [
    "### HW06 question 7\n",
    "\n",
    "Use the harmonic-oscillator model with $\\hbar\\omega$=14 MeV to find the center-of-\n",
    "mass correction to the energy of 20Ne."
   ]
  },
  {
   "cell_type": "markdown",
   "metadata": {},
   "source": [
    "We correct for the kinetic energy of the center-of-mass using Eq. 16.66\n",
    "\n",
    "$$H + H'_{cm}-\\frac{3}{2}\\hbar\\omega.$$\n",
    "\n",
    "The expression for $H'_{cm}$ comes from Eq. 16.65\n",
    "\n",
    "$$H'_{cm} = \\beta\\left( \\frac{Q^2}{2Am} + \\frac{1}{2}Am\\omega^2R^2 - \\frac{3}{2}\\hbar\\omega \\right)$$\n",
    "\n",
    "The correction is $(3/2)\\hbar\\omega$ which is equal to 21 MeV."
   ]
  },
  {
   "cell_type": "markdown",
   "metadata": {},
   "source": [
    "### HW06 question 8\n",
    "\n",
    "Use wspot with the default Bohr-Mottelson set of Woods-Saxon param-\n",
    "eters. Assume that 16O is a doubly closed shell nucleus. What are the\n",
    "single-particle energies for the bound states? How do they compare with\n",
    "experiment? What is the rms charge radius? How does it compare to\n",
    "experiment?"
   ]
  },
  {
   "cell_type": "markdown",
   "metadata": {},
   "source": [
    "Proton single-particle energies in 16O\n",
    "\n",
    "|(n,$\\ell$,2j)|s-p energy (MeV)|Experiment $\\epsilon(\\alpha)$ (MeV)|RMS|\n",
    "|-------------|----------------|-----------------------------------|---|\n",
    "|(0,0,1)      |-25.586         |-53|2.173|\n",
    "|(0,1,3)      |-13.612         |-18.45|2.847|\n",
    "|(0,1,1)      |-7.437          |-12.13|2.953|\n",
    "|(0,2,5)      |-1.995          |-0.60|3.651|\n",
    "\n",
    "The experimental rms charge radius for 16O is 2.710(15) according to Kim et al(1978) (tabulated in Brown et al 1984 [https://people.nscl.msu.edu/~brown/brown-all-papers/065-1984-jpg.10.1683-rms-charge-radii.pdf]())\n",
    "\n",
    "Neutron single-particle energies in 16O\n",
    "\n",
    "|(n,$\\ell$,2j)|s-p energy (MeV)|Experiment $\\epsilon(\\alpha)$ (MeV)|\n",
    "|-------------|----------------|-----------------------------------|\n",
    "|(0,0,1)      |-30.381         |-57|\n",
    "|(0,1,3)      |-17.833         |-21.84|\n",
    "|(0,1,1)      |-11.611         |-15.66|\n",
    "|(1,0,1)      |-2.950          |-3.27|\n",
    "|(0,2,5)      |-5.567          |-4.14|\n"
   ]
  },
  {
   "cell_type": "code",
   "execution_count": null,
   "metadata": {},
   "outputs": [],
   "source": []
  }
 ],
 "metadata": {
  "kernelspec": {
   "display_name": "Python 3",
   "language": "python",
   "name": "python3"
  },
  "language_info": {
   "codemirror_mode": {
    "name": "ipython",
    "version": 3
   },
   "file_extension": ".py",
   "mimetype": "text/x-python",
   "name": "python",
   "nbconvert_exporter": "python",
   "pygments_lexer": "ipython3",
   "version": "3.8.5"
  }
 },
 "nbformat": 4,
 "nbformat_minor": 4
}
