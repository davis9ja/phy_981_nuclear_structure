{
 "cells": [
  {
   "cell_type": "markdown",
   "metadata": {},
   "source": [
    "## This Jupyter notebook answers HW11 questions for PHY 981 Nuclear Structure.\n",
    "\n",
    "Author: Jacob Davison\\\n",
    "Date:   03/30/2021"
   ]
  },
  {
   "cell_type": "markdown",
   "metadata": {},
   "source": [
    "### HW11 question 3\n",
    "\n",
    "For the neutron configuration $(d_{1/2})^n$, what are the allowed (J, T) values for\n",
    "n = 1; 2; 3; 4; 5; 6?\n",
    "\n"
   ]
  },
  {
   "cell_type": "code",
   "execution_count": 1,
   "metadata": {},
   "outputs": [
    {
     "name": "stdout",
     "output_type": "stream",
     "text": [
      "M scheme table\n",
      "    3.5  2.5  1.5  0.5  -0.5  -1.5  -2.5  -3.5    M\n",
      "0   1.0  1.0  0.0  0.0   0.0   0.0   0.0   0.0  6.0\n",
      "1   1.0  0.0  1.0  0.0   0.0   0.0   0.0   0.0  5.0\n",
      "2   1.0  0.0  0.0  1.0   0.0   0.0   0.0   0.0  4.0\n",
      "3   1.0  0.0  0.0  0.0   1.0   0.0   0.0   0.0  3.0\n",
      "4   1.0  0.0  0.0  0.0   0.0   1.0   0.0   0.0  2.0\n",
      "5   1.0  0.0  0.0  0.0   0.0   0.0   1.0   0.0  1.0\n",
      "6   1.0  0.0  0.0  0.0   0.0   0.0   0.0   1.0  0.0\n",
      "7   0.0  1.0  1.0  0.0   0.0   0.0   0.0   0.0  4.0\n",
      "8   0.0  1.0  0.0  1.0   0.0   0.0   0.0   0.0  3.0\n",
      "9   0.0  1.0  0.0  0.0   1.0   0.0   0.0   0.0  2.0\n",
      "10  0.0  1.0  0.0  0.0   0.0   1.0   0.0   0.0  1.0\n",
      "11  0.0  1.0  0.0  0.0   0.0   0.0   1.0   0.0  0.0\n",
      "12  0.0  1.0  0.0  0.0   0.0   0.0   0.0   1.0 -1.0\n",
      "13  0.0  0.0  1.0  1.0   0.0   0.0   0.0   0.0  2.0\n",
      "14  0.0  0.0  1.0  0.0   1.0   0.0   0.0   0.0  1.0\n",
      "15  0.0  0.0  1.0  0.0   0.0   1.0   0.0   0.0  0.0\n",
      "16  0.0  0.0  1.0  0.0   0.0   0.0   1.0   0.0 -1.0\n",
      "17  0.0  0.0  1.0  0.0   0.0   0.0   0.0   1.0 -2.0\n",
      "18  0.0  0.0  0.0  1.0   1.0   0.0   0.0   0.0  0.0\n",
      "19  0.0  0.0  0.0  1.0   0.0   1.0   0.0   0.0 -1.0\n",
      "20  0.0  0.0  0.0  1.0   0.0   0.0   1.0   0.0 -2.0\n",
      "21  0.0  0.0  0.0  1.0   0.0   0.0   0.0   1.0 -3.0\n",
      "22  0.0  0.0  0.0  0.0   1.0   1.0   0.0   0.0 -2.0\n",
      "23  0.0  0.0  0.0  0.0   1.0   0.0   1.0   0.0 -3.0\n",
      "24  0.0  0.0  0.0  0.0   1.0   0.0   0.0   1.0 -4.0\n",
      "25  0.0  0.0  0.0  0.0   0.0   1.0   1.0   0.0 -4.0\n",
      "26  0.0  0.0  0.0  0.0   0.0   1.0   0.0   1.0 -5.0\n",
      "27  0.0  0.0  0.0  0.0   0.0   0.0   1.0   1.0 -6.0\n",
      "\n",
      "Num unique M values\n",
      " 6.0    1\n",
      " 5.0    1\n",
      " 4.0    2\n",
      " 3.0    2\n",
      " 2.0    3\n",
      " 1.0    3\n",
      " 0.0    4\n",
      "-1.0    3\n",
      "-2.0    3\n",
      "-3.0    2\n",
      "-4.0    2\n",
      "-5.0    1\n",
      "-6.0    1\n",
      "Name: M, dtype: int64\n"
     ]
    }
   ],
   "source": [
    "import itertools\n",
    "import numpy as np\n",
    "import pandas as pd\n",
    "\n",
    "def m_scheme(j, n):\n",
    "    m2_vals = np.array([j-i for i in range(int(2*j+1))])\n",
    "    \n",
    "    nucleons = np.ones(n,dtype=int)\n",
    "    occupations = np.append(nucleons, np.zeros(len(m2_vals)-len(nucleons),dtype=int))\n",
    "    occupations_str = ''.join([str(x) for x in occupations])\n",
    "    configs = np.sort(list(set(map(\"\".join, itertools.permutations(occupations_str)))))[::-1]\n",
    "    \n",
    "    df_list = []\n",
    "    for config in configs:\n",
    "        config_arr = np.array([int(x) for x in list(config)])\n",
    "        row = pd.DataFrame([np.append(config_arr, [config_arr.dot(m2_vals)])], \n",
    "                           columns=np.append([str(x) for x in m2_vals],['M']))\n",
    "        df_list.append(row)\n",
    "    df = pd.concat(df_list).reset_index(drop=True)\n",
    "    return df\n",
    "\n",
    "scheme_df = m_scheme(7/2,2)\n",
    "print('M scheme table')\n",
    "print(scheme_df)\n",
    "print('\\nNum unique M values')\n",
    "print(scheme_df['M'].value_counts(sort=False))"
   ]
  },
  {
   "cell_type": "markdown",
   "metadata": {},
   "source": [
    "### n = 1\n",
    "\n",
    "j = J = 5/2 and T = 1/2\n",
    "\n",
    "### n = 2\n",
    "\n",
    "T = 1\n",
    "\n",
    "J = 4,2,0\n",
    "\n",
    "### n = 3\n",
    "\n",
    "T = 3/2\n",
    "\n",
    "J = 9/2, 5/2, 3/2\n",
    "\n",
    "### n = 4\n",
    "\n",
    "T = 2\n",
    "\n",
    "J = 4,2,0\n",
    "\n",
    "### n = 5\n",
    "\n",
    "T = 5/2\n",
    "\n",
    "J = 5/2\n",
    "\n",
    "### n = 6\n",
    "\n",
    "T = 3\n",
    "\n",
    "J = 0"
   ]
  },
  {
   "cell_type": "markdown",
   "metadata": {},
   "source": [
    "### HW11 question 4\n",
    "\n",
    "For the configuration $(\\pi d_{5/2})(\\nu d_{5/2)}^2$, what the number of states for each of the allowed (J,T) values?  Remember that the states with T = 3/2 are theisobaric analogue states of the $(\\nu d_{5/2})^3$ configuation."
   ]
  },
  {
   "cell_type": "markdown",
   "metadata": {},
   "source": [
    "In this configuration, we must have have T$_z$ = 1/2. The j = 5/2 proton is coupled to the configuration $(5/2)^2$ with J$_n$ = 0,2,4. The possible J values according to the triangle rule (5/2 coupled to 0, 2, and 4) are now $J = (5/2), (9/2,7/2,5/2,3/2,1/2), (13/2,11/2,9/2,7/2,5/2,3/2)$\n",
    "\n",
    "| (J, T) | Num states in T=1/2 | Num states in T=3/2 |\n",
    "|--------|------------|-------------------------|\n",
    "|(13/2, 1/2)| 1 | 0 |\n",
    "|(11/2, 1/2)| 1 | 0 |\n",
    "|(9/2, 1/2) | 1 | 1 |\n",
    "|(7/2, 1/2) | 2 | 0 |\n",
    "|(5/2, 1/2) | 2 | 1 |\n",
    "|(3/2, 1/2) | 1 | 1 |\n",
    "|(1/2, 1/2) | 1 | 0 |"
   ]
  },
  {
   "cell_type": "markdown",
   "metadata": {},
   "source": [
    "### HW11 question 5\n",
    "\n",
    "For the configuration $(\\pi d_{5/2})(\\nu d_{5/2})^5$, what the number of states for each of\n",
    "the allowed (J, T) values?"
   ]
  },
  {
   "cell_type": "markdown",
   "metadata": {},
   "source": [
    "Here the T$_z$ = 2. We couple the j = 5/2 with J$_n$ = 5/2 neutrons (this is the only possible J value in $(\\nu d_{5/2})^5$. Triangle rule gives us possible J values $J = (0,1,2,3,4,5)$ the highest allowed isospin for 6 neutrons T = T$_z$ = 3. In this case, J = 0 is the only allowed J. (T,T$_z$) = (3,2) is an isobaric analogue of (T,T$_z$) = (3,3). Therefore, the only J = 0 in the configuraiton  $(\\pi d_{5/2})(\\nu d_{5/2})^5$ comes from this isobaric analogue. The rest are counted once."
   ]
  },
  {
   "cell_type": "markdown",
   "metadata": {},
   "source": [
    "### HW11 question 6\n",
    "\n",
    "Calculate the magnetic moment for the 5+ state in 18F assuming a $(0d_{5/2})^2$\n",
    "configuration. Use free-nucleon g-factors. Compare to experiment. (I attach a compilation of experimental moments.)"
   ]
  },
  {
   "cell_type": "markdown",
   "metadata": {},
   "source": [
    "Use one-body operator magnetic moment Eq. 18.20\n",
    "\n",
    "$$\\frac{\\hat{\\mu}}{\\mu_N} = \\hat{\\ell}_zg_q^\\ell+\\hat{s}_zg_q^s$$\n",
    "\n",
    "The matrix element $\\langle C(0d_{5/2})^2|\\frac{\\mu_z}{\\mu_N}|C(0d_{5/2})^2\\rangle$ is a sum over occupied single-particle states with respect to the closed shell 16O. In other words, we can compute the magnetic moment according to the sum,\n",
    "\n",
    "$$\\langle C(0d_{5/2})^2|\\frac{\\hat{\\mu}_z}{\\mu_N}|C(0d_{5/2})^2\\rangle = \\langle(\\pi0d_{5/2})|\\frac{\\hat{\\mu}_z}{\\mu_N}|(\\pi0d_{5/2})\\rangle + \\langle(\\nu0d_{5/2})|\\frac{\\hat{\\mu}_z}{\\mu_N}|(\\nu0d_{5/2})\\rangle$$.\n",
    "\n",
    "\n",
    "The matrix element (in units of $\\mu_N$) is\n",
    "\n",
    "$$\\langle\\mu_z\\rangle = jg_q^\\ell + \\frac{\\left[j(j+1)+s(s+1)-\\ell(\\ell+1)\\right]\\left(g_q^s-g_q^\\ell\\right)}{2(j+1)}$$\n",
    "\n",
    "Using free nucleon g-factors, we get the final result +2.88 for the magnetic moment of 18F. According to the attached source, the experimental magnetic moment for 18F is +2.86(3)."
   ]
  },
  {
   "cell_type": "markdown",
   "metadata": {},
   "source": [
    "### HW11 question 7\n",
    "\n",
    "Calculate the magnetic moment for the 4+ state in 18O assuming a $(0f_{7/2})^2$\n",
    "configuration. Use free-nucleon g-factors. Compare to experiment."
   ]
  },
  {
   "cell_type": "markdown",
   "metadata": {},
   "source": [
    "Similar to question 6 except the two single-particle states with respect to the closed shell 16O are both neutron states. The 4+ state requires that the wavefunction be a linear combination of the configurations $j_1,j_2$ = 7/2,1/2 and $j_1,j_2$ = 5/2,3/2.\n",
    "\n",
    "use eq. 18.9. The matrix element of a general $M$ is related to the matrix element of a state where $M = J_{max}$ by a ratio of Clebsch Gordon coefficients. \n",
    "\n",
    "$$<J,M|O^\\lambda|J,M> = \\frac{<J,M,\\lambda,0|J,M>}{<J,J_{max},\\lambda,0|J,J_{max}>}<J,J_{max}|O^\\lambda|J,J_{max}> $$\n",
    "\n",
    "For a single neutron in this shell, the $J_{max}$ = 7/2. When we compute another M, we multiply by the appropriate Clebsch Gordon coefficient ratio.\n",
    "\n",
    "The answer I get is -2.186. The literature gives a magnitude of $\\mu$ = 2.5(4) with no sign determined by the experiment. Calculated results are consistent within error of the experiment, but sign cannot be compared."
   ]
  },
  {
   "cell_type": "code",
   "execution_count": 8,
   "metadata": {},
   "outputs": [
    {
     "name": "stdout",
     "output_type": "stream",
     "text": [
      "-2.186274739051248\n",
      "-2.1862026645733628\n"
     ]
    }
   ],
   "source": [
    "def mu(j, l, q):\n",
    "    if q == 0:\n",
    "        gl = 1\n",
    "        gs = 5.586\n",
    "    elif q == 1:\n",
    "        gl = 0\n",
    "        gs = -3.826\n",
    "    else:\n",
    "        return \"q must be 0 (proton) or 1 (neutron)\"\n",
    "    \n",
    "    dot_me = (j*(j+1) + 1/2*(1/2+1) - l*(l+1))/2\n",
    "    \n",
    "    return j*gl + (dot_me*(gs-gl))/(j+1)\n",
    "\n",
    "tj_max = 0.2415321\n",
    "tj_half = 0.0345032\n",
    "tj_thalf = 0.1035098\n",
    "tj_fhalf = 0.1725164\n",
    "\n",
    "\n",
    "print(mu(7/2,3,1)+ tj_half/tj_max*mu(7/2,3,1))\n",
    "print(tj_fhalf/tj_max*mu(7/2,3,1)+ tj_thalf/tj_max*mu(7/2,3,1))"
   ]
  },
  {
   "cell_type": "markdown",
   "metadata": {},
   "source": [
    "### HW11 question 8\n",
    "\n",
    "What are the partitions allowed for the $(0d_{5/2}, 0d_{3/2}, 1s_{1/2})$ set of orbitals for\n",
    "19O. What is the maximum J value allowed?"
   ]
  },
  {
   "cell_type": "markdown",
   "metadata": {},
   "source": [
    "Allowed partitions:\n",
    "\n",
    "$$(0d_{5/2})^0(0d_{3/2})^1(1s_{1/2})^2$$\n",
    "$$(0d_{5/2})^1(0d_{3/2})^0(1s_{1/2})^2$$\n",
    "$$(0d_{5/2})^0(0d_{3/2})^2(1s_{1/2})^1$$\n",
    "$$(0d_{5/2})^2(0d_{3/2})^0(1s_{1/2})^1$$\n",
    "$$(0d_{5/2})^1(0d_{3/2})^1(1s_{1/2})^1$$\n",
    "$$(0d_{5/2})^1(0d_{3/2})^2(1s_{1/2})^0$$\n",
    "$$(0d_{5/2})^2(0d_{3/2})^1(1s_{1/2})^0$$\n",
    "$$(0d_{5/2})^0(0d_{3/2})^3(1s_{1/2})^0$$\n",
    "$$(0d_{5/2})^3(0d_{3/2})^0(1s_{1/2})^0$$\n",
    "\n",
    "\n",
    "Maximum allowed J is 5/2+3/2+1/2 = 9/2"
   ]
  },
  {
   "cell_type": "markdown",
   "metadata": {},
   "source": [
    "### HW11 question 9\n",
    "\n",
    "Evaluate the spin matrix elements $\\langle S | X^q | S' \\rangle$ for Eqs. 25.25-27."
   ]
  },
  {
   "cell_type": "markdown",
   "metadata": {},
   "source": [
    "$$\\langle S| X^{(0)}| S' \\rangle = \\delta_{SS'}$$\n",
    "\n",
    "$$\\langle S| X^{(1)}|S'\\rangle = \\langle S| \\vec{S} |S'\\rangle = \\delta_{SS'}\\sqrt{S(S+1)(2S+1)}$$\n",
    "\n",
    "$$\\langle S| X^{(2)}| S' \\rangle = \\langle S| \\sqrt{6}[\\vec{\\sigma}_1 \\otimes \\vec{\\sigma}_2]^{(2)} | S' \\rangle = (-1)^{S}\\sqrt{2 S+1(5)(2S'+1)}\\begin{pmatrix} S& 2& S'\\\\0&0&0 \\end{pmatrix}$$"
   ]
  },
  {
   "cell_type": "code",
   "execution_count": null,
   "metadata": {},
   "outputs": [],
   "source": []
  }
 ],
 "metadata": {
  "kernelspec": {
   "display_name": "Python 3",
   "language": "python",
   "name": "python3"
  },
  "language_info": {
   "codemirror_mode": {
    "name": "ipython",
    "version": 3
   },
   "file_extension": ".py",
   "mimetype": "text/x-python",
   "name": "python",
   "nbconvert_exporter": "python",
   "pygments_lexer": "ipython3",
   "version": "3.8.5"
  }
 },
 "nbformat": 4,
 "nbformat_minor": 4
}
