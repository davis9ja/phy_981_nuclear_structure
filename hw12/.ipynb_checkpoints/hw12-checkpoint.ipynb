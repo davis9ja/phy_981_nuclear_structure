{
 "cells": [
  {
   "cell_type": "markdown",
   "metadata": {},
   "source": [
    "## This Jupyter notebook answers HW12 questions for PHY 981 Nuclear Structure.\n",
    "\n",
    "Author: Jacob Davison\\\n",
    "Date:   04/06/2021"
   ]
  },
  {
   "cell_type": "markdown",
   "metadata": {},
   "source": [
    "### HW12 question 4\n",
    "\n",
    "Use NuShellX to obtain the wavefunctions for 19O in the sd model space with\n",
    "the usdb Hamiltonian for J up to 13/2. Are the results for the partitions\n",
    "and maximum J value consistent with the answer to HW11.8?"
   ]
  },
  {
   "cell_type": "markdown",
   "metadata": {},
   "source": [
    "The output I get from `shell` for 19O is:\n",
    "\n",
    "`number of proton  partitions =            1\n",
    "number of neutron partitions =            9\n",
    "2*maxjp, 2*maxjn =            0          11`\n",
    "\n",
    "The max Jn is definitely correct (11/2). Not sure about the number of partitions; in my homework I got 9 total neutron partitions and I think this is correct."
   ]
  },
  {
   "cell_type": "markdown",
   "metadata": {},
   "source": [
    "### HW12 question 5\n",
    "\n",
    "Use NuShellX to obtain the wavefunctions for 19F in the 0d5/2 model space\n",
    "and the usdb Hamiltonian for J up to 13/2. Are the J scheme dimensions\n",
    "consistent with the answer to HW11.4? (This information is printed on the\n",
    "screen and is in the \\*.dim files.)"
   ]
  },
  {
   "cell_type": "markdown",
   "metadata": {},
   "source": [
    "The output I get from `shell` for 19F is:\n",
    "\n",
    "`\\\n",
    "approximate time to converge 10 states with 4-core (2.6 GHz)\n",
    " 2J       J-dim         M-dim     t(min)   t(hour)\n",
    " 13           1             1       0.20      0.00\n",
    " 11           1             2       0.20      0.00\n",
    "  9           2             4       0.20      0.00\n",
    "  7           2             6       0.20      0.00\n",
    "  5           3             9       0.20      0.00\n",
    "  3           2            11       0.20      0.00\n",
    "  1           1            12       0.20      0.00`\n",
    "  \n",
    "I create a `d5.mod` file with core O16 as the core in the 0d5/2 shell. Then, I run the `shell` with this model space on F19. The J-scheme dimensions are consistent with HW11.4, which include the isobaric analogue states of T=3/2."
   ]
  },
  {
   "cell_type": "markdown",
   "metadata": {},
   "source": [
    "### HW12 question 6\n",
    "\n",
    "Modify the \\*ans file from the previous problem to calculate the T values.\n",
    "Are the (J; T) values in the \\*.lpt file consistent with the answer to HW11.4?\n",
    "Compare the calculated energy levels to experiment."
   ]
  },
  {
   "cell_type": "markdown",
   "metadata": {},
   "source": [
    "From `shell` for 19F adding the isospin contribution and reading the values in f19.lpt:\n",
    "\n",
    "`\\\n",
    "  N    NJ   Ex(MeV)  pJ    T_z     lowest Ex     name      E(MeV)\n",
    "    1    1    0.000   1/2  1/2    0.000     bb1301.lpe     -23.8610\n",
    "    2    1    0.077   5/2  1/2    0.077     bb1305.lpe     -23.7837\n",
    "    3    1    1.770   3/2  1/2    1.770     bb1303.lpe     -22.0906\n",
    "    4    1    2.599   9/2  1/2    2.599     bb1309.lpe     -21.2624\n",
    "    5    1    4.604  13/2  1/2    4.604     bb130d.lpe     -19.2572\n",
    "    6    1    4.868   7/2  1/2    4.868     bb1307.lpe     -18.9934\n",
    "    7    2    4.969   5/2  1/2              bb1305.lpe     -18.8916\n",
    "    8    2    6.118   7/2  1/2              bb1307.lpe     -17.7435\n",
    "    9    2    6.212   1/2  1/2              bb1301.lpe     -17.6485\n",
    "   10    3    6.302   7/2  1/2              bb1307.lpe     -17.5590\n",
    "   11    3    6.553   5/2  1/2              bb1305.lpe     -17.3084\n",
    "   12    1    6.592  11/2  1/2    6.592     bb130b.lpe     -17.2692\n",
    "`\n",
    "\n",
    "I'm not sure how to read the number of allowed states from this, and in fact there are 128 rows in the output file which represent possible excited states (I assume). However, the rows that represent the lowest excited states are consistent with the possible (J,T) values in HW11.4.\n",
    "\n",
    "I compute the T values here from the full `sd` model space. I can't get the (J,T) values to print using my model space."
   ]
  },
  {
   "cell_type": "markdown",
   "metadata": {},
   "source": [
    "### HW12 question 7\n",
    "\n",
    "The Hamiltonian for a system of two basis states is: $H_{11} = -10$, $H_{12} =\n",
    "-2$ and $H_{22} = -2$. Find the second-order perturbation correction to the\n",
    "wavefunction and energy for state 1."
   ]
  },
  {
   "cell_type": "markdown",
   "metadata": {},
   "source": [
    "Second-order pertubative correction comes from the Taylor expansion of $\\delta$ in Eq 31.4, written explicitly in Eq. 31.6.\n",
    "\n",
    "Expand Eq. 31.4 in $H_{12} = 0$:\n",
    "\n",
    "$$\\delta = \\frac{1}{2}\\left[\\sqrt{(H_{22} - H_{11})^2+4H_{H_{12}^2}}-(H_{22} - H_{11})\\right] \\approx \\frac{1}{2}\\left(H_{22} - H_{11} - H_{22} + H_{11}\\right) + \\frac{H_{12}^2}{(H_{22} - H_{11})}$$\n",
    "\n",
    "Plug $\\delta$ into $E_1$:\n",
    "\n",
    "$$E_1 = H_{11} - \\delta \\approx H_{11} - \\frac{H_{12}^2}{H_{22} - H_{11}} = -10 - \\frac{4}{-2-(-10)} = -10.5$$"
   ]
  },
  {
   "cell_type": "markdown",
   "metadata": {},
   "source": [
    "### HW12 question 8\n",
    "\n",
    "In a different directory, obtain the (J; T) wavefunctions for 19F in the full\n",
    "sd model space wth the usdb Hamiltonian. Compare the calculated energy\n",
    "levels to experiment. How does the excitation energy of the lowest T = 3/2\n",
    "state with experiment?"
   ]
  },
  {
   "cell_type": "markdown",
   "metadata": {},
   "source": [
    "From `shell` running the full `sd` model on 19F:\n",
    "\n",
    "`\\\n",
    "N    NJ   Ex(MeV)  pJ    T       lowest Ex     name      E(MeV)\n",
    "1    1    0.000   1/2  1/2    0.000     bb1301.lpe     -23.8610\n",
    "2    1    0.077   5/2  1/2    0.077     bb1305.lpe     -23.7837\n",
    "3    1    1.770   3/2  1/2    1.770     bb1303.lpe     -22.0906\n",
    "4    1    2.599   9/2  1/2    2.599     bb1309.lpe     -21.2624\n",
    "5    1    4.604  13/2  1/2    4.604     bb130d.lpe     -19.2572\n",
    "6    1    4.868   7/2  1/2    4.868     bb1307.lpe     -18.9934\n",
    "7    2    4.969   5/2  1/2              bb1305.lpe     -18.8916\n",
    "8    2    6.118   7/2  1/2              bb1307.lpe     -17.7435\n",
    "9    2    6.212   1/2  1/2              bb1301.lpe     -17.6485\n",
    "10    3    6.302   7/2  1/2              bb1307.lpe     -17.5590\n",
    "11    3    6.553   5/2  1/2              bb1305.lpe     -17.3084\n",
    "12    1    6.592  11/2  1/2    6.592     bb130b.lpe     -17.2692\n",
    "13    2    6.819   3/2  1/2              bb1303.lpe     -17.0418\n",
    "14    2    7.038   9/2  1/2              bb1309.lpe     -16.8225\n",
    "15    3    7.080   3/2  1/2              bb1303.lpe     -16.7812\n",
    "16    4    7.551   5/2  1/2              bb1305.lpe     -16.3105\n",
    "17    5    7.905   5/2  3/2              bb1305.lpe     -15.9558`\n",
    "\n",
    "Lowest excitation energies from shell model in 13/2 multiplet\n",
    "\n",
    "|(J,T)| Shell model Ex (MeV) | NNDC Ex (MeV)|\n",
    "|-----|----------------------|--------------|\n",
    "|(5/2,1/2)|0.077|0.197|\n",
    "|(3/2,1/2)|1.770|1.554|\n",
    "|(9/2,1/2)|2.599|2.780|\n",
    "|(13/2,1/2)|4.604|4.648|\n",
    "|(7/2,1/2)|4.868|4.378|\n",
    "|(11/2,1/2)|6.592|6.5|\n",
    "\n",
    "The lowest T=3/2 according to shell model code is 7.905 MeV. Same state from experiment is 7.504 MeV according to NNDC."
   ]
  },
  {
   "cell_type": "markdown",
   "metadata": {},
   "source": [
    "### HW12 question 9\n",
    "\n",
    "A simple model for the \"pairing\" part of the Hamiltonian is that all components of the wavefunction are connected by the same attractive interaction.\n",
    "For example for three basis states, the two-body interaction part of the\n",
    "matrix would look like\n",
    "\n",
    "a a a\\\n",
    "a a a\\\n",
    "a a a\n",
    "\n",
    "where a is the many-body interaction strength. Using a = -1 MeV, what\n",
    "are the eigenvalues and wavefunctions for this matrix."
   ]
  },
  {
   "cell_type": "code",
   "execution_count": 8,
   "metadata": {},
   "outputs": [
    {
     "name": "stdout",
     "output_type": "stream",
     "text": [
      "[-3.00000000e+00 -9.06674729e-18  4.53155957e-16]\n",
      "[[-0.57735027  0.11435482  0.80844891]\n",
      " [-0.57735027  0.64295988 -0.50325864]\n",
      " [-0.57735027 -0.75731471 -0.30519027]]\n"
     ]
    }
   ],
   "source": [
    "import numpy as np\n",
    "\n",
    "H = np.array([[-1,-1,-1],\n",
    "              [-1,-1,-1],\n",
    "              [-1,-1,-1]])\n",
    "\n",
    "w,v = np.linalg.eigh(H)\n",
    "print(w)\n",
    "print(v)"
   ]
  },
  {
   "cell_type": "markdown",
   "metadata": {},
   "source": [
    "The wavefunctions (eigenstates) expanded in basis states $\\Phi_i,\\quad i=1,2,3$ are:\n",
    "\n",
    "$$\n",
    "\\begin{split}\\Psi_1 &= -0.577(\\Phi_1 + \\Phi_2 + \\Phi_3)\\\\\n",
    "\\Psi_2 &= 0.114\\Phi_1 + 0.643\\Phi_2 - 0.757\\Phi_3\\\\\n",
    "\\Psi_3 &= 0.808\\Phi_1 - 0.503\\Phi_2 - 0.305\\Phi_3\n",
    "\\end{split}\n",
    "$$\n",
    "\n",
    "The energies are:\n",
    "\n",
    "$$E_1,E_2,E_3 = -3, -9.066\\text{E-18}, 4.532\\text{E-16}$$\n",
    "\n",
    "Not sure if we can treat $E_2,E_3$ as zero, because of the distinct sign."
   ]
  },
  {
   "cell_type": "markdown",
   "metadata": {},
   "source": [
    "### HW12 question 10\n",
    "\n",
    "For this last problem, find the ground state energy and wavefunction using\n",
    "the Lanczos method. Start with the random vector (1; 2; 3)/$\\sqrt{14}$"
   ]
  },
  {
   "cell_type": "code",
   "execution_count": 31,
   "metadata": {},
   "outputs": [
    {
     "name": "stdout",
     "output_type": "stream",
     "text": [
      "iter =  2\n",
      "E_1 = -4.28571429e-01\n",
      "Psi_1 = ( 8.06195636e-01, 5.32267823e-01, 2.58340010e-01)\n",
      "\n",
      "iter =  3\n",
      "E_1 = -2.54978132e+00\n",
      "Psi_1 = (-2.56489420e-01,-5.31794047e-01,-8.07098674e-01)\n",
      "\n",
      "iter =  4\n",
      "E_1 = -2.54524418e+00\n",
      "Psi_1 = ( 5.77124494e-01, 5.77350240e-01, 5.77575985e-01)\n",
      "\n",
      "iter =  5\n",
      "E_1 = -2.99999969e+00\n",
      "Psi_1 = (-5.77369607e-01,-5.77350269e-01,-5.77330930e-01)\n",
      "\n",
      "iter =  6\n",
      "E_1 = -3.00000000e+00\n",
      "Psi_1 = ( 5.77350269e-01, 5.77350269e-01, 5.77350269e-01)\n",
      "\n",
      "iter =  7\n",
      "E_1 = -3.00000000e+00\n",
      "Psi_1 = (-5.77350269e-01,-5.77350269e-01,-5.77350269e-01)\n",
      "\n",
      "iter =  8\n",
      "E_1 = -3.00000000e+00\n",
      "Psi_1 = ( 5.77350269e-01, 5.77350269e-01, 5.77350269e-01)\n",
      "\n",
      "iter =  9\n",
      "E_1 = -3.00000000e+00\n",
      "Psi_1 = (-5.77350269e-01,-5.77350269e-01,-5.77350269e-01)\n",
      "\n",
      "iter =  10\n",
      "E_1 = -3.00000000e+00\n",
      "Psi_1 = ( 5.77350269e-01, 5.77350269e-01, 5.77350269e-01)\n",
      "\n"
     ]
    }
   ],
   "source": [
    "import numpy as np\n",
    "\n",
    "H = np.array([[-1,-1,-1],\n",
    "              [-1,-1,-1],\n",
    "              [-1,-1,-1]])\n",
    "\n",
    "# FIRST LANCZOS STEP\n",
    "v_0 = np.array([1,2,3])/np.sqrt(14)\n",
    "w_0 = H.dot(v_0)\n",
    "a_0 = v_0.dot(w_0)\n",
    "w_0 = w_0 - a_0*v_0\n",
    "b_i = np.linalg.norm(w_0)\n",
    "v_i = w_0/b_i\n",
    "\n",
    "v_prev = v_0\n",
    "\n",
    "# DO LANCZOS FOR N_ITERS\n",
    "N_iters = 10\n",
    "count = 1\n",
    "while count < N_iters:\n",
    "\n",
    "    w_i = H.dot(v_i)\n",
    "    a_i = v_i.dot(w_i)\n",
    "    b_i = v_prev.dot(w_i)\n",
    "    \n",
    "    v_prev = v_i\n",
    "    \n",
    "    w_i = w_i - a_i*v_i - b_i*v_prev\n",
    "    v_i = w_i/np.linalg.norm(w_i)\n",
    "    \n",
    "    count += 1\n",
    "    \n",
    "    print('iter = {: 0d}\\nE_1 = {: .8e}\\nPsi_1 = ({: .8e},{: .8e},{: .8e})\\n'.format(count,a_i, *v_i))"
   ]
  },
  {
   "cell_type": "markdown",
   "metadata": {},
   "source": [
    "Converges to the same results as question 9. After convergence, the sign of $\\Psi_1$ flips back and forth because the orthogonal vector as already converged; that is, the next $v_{i+1}$ reduces to $v_{i+1} = v_i - 1*v_i - 1*v_{i-1} = -v_{i+1}$. However, the negative of a eigenvector of $H$ is still an eigenvector, so it doesn't matter."
   ]
  },
  {
   "cell_type": "code",
   "execution_count": null,
   "metadata": {},
   "outputs": [],
   "source": []
  }
 ],
 "metadata": {
  "kernelspec": {
   "display_name": "Python 3",
   "language": "python",
   "name": "python3"
  },
  "language_info": {
   "codemirror_mode": {
    "name": "ipython",
    "version": 3
   },
   "file_extension": ".py",
   "mimetype": "text/x-python",
   "name": "python",
   "nbconvert_exporter": "python",
   "pygments_lexer": "ipython3",
   "version": "3.8.5"
  }
 },
 "nbformat": 4,
 "nbformat_minor": 4
}
