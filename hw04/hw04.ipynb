{
 "cells": [
  {
   "cell_type": "markdown",
   "metadata": {},
   "source": [
    "## This Jupyter notebook answers HW04 questions for PHY 981 Nuclear Structure.\n",
    "\n",
    "Author: Jacob Davison\\\n",
    "Date:   02/09/2021"
   ]
  },
  {
   "cell_type": "markdown",
   "metadata": {},
   "source": [
    "### HW04 question 3\n",
    "\n",
    "Use experimental data to obtain the b and c coefficients of the IMME for\n",
    "the lowest energy 0+, T=1 states for A=30."
   ]
  },
  {
   "cell_type": "code",
   "execution_count": 6,
   "metadata": {},
   "outputs": [
    {
     "name": "stdout",
     "output_type": "stream",
     "text": [
      "b = -5.9695 MeV\n",
      "c = -124.0095 MeV\n"
     ]
    }
   ],
   "source": [
    "b = (243.681 - 255.620)/2\n",
    "c = (251.282 - 243.681 - 255.620)/2\n",
    "\n",
    "print('b = {:0.4f} MeV\\nc = {:0.4f} MeV'.format(b,c))"
   ]
  },
  {
   "cell_type": "markdown",
   "metadata": {},
   "source": [
    "We need to consolidate data from the nuclear chart, acccessible via [HERE](https://babwww.com/chart/chart-data.html). We will only gather data for which a $0^+$ T=1 is accessible. We look at isotopes along the diagonal line where A=30.\n",
    "\n",
    "| Isotope | N | Z | T_z | BE (MeV) for $0^+,T=1$ state |\n",
    "|---------|---|---|-----|------------------------|\n",
    "|$^{30}P$ |15 |15 |0    |251.282                 |\n",
    "|$^{30}S$ |16 |14 |1    |243.681                 |\n",
    "|$^{30}Si$|14 |16 |-1   |255.620                 |\n",
    "\n",
    "To compute the coefficients $b$ and $c$, we take the results in the table above and plug into Eq. 11.2 and 11.3.\n",
    "\n",
    "$$b(0^+,T=1,A=30) = \\frac{BE(T=1,T_z=1) - BE(T=1,T_z=-1)}{2}$$\n",
    "$$c(0^+,T=1,A=30) = \\frac{BE(T=1,T_z=0) - BE(T=1,T_z=1) - BE(T=1,T_z=-1)}{2}$$\n",
    "\n",
    "\n",
    "We find that \n",
    "\n",
    "b = -5.9695 MeV\\\n",
    "c = -124.0095 MeV"
   ]
  },
  {
   "cell_type": "markdown",
   "metadata": {},
   "source": [
    "### HW04 question 4\n",
    "\n",
    "Use the liquid-drop model to estimate the excitation energy of the lowest\n",
    "0+, T=4 state in 48Ti. Compare to experiment."
   ]
  },
  {
   "cell_type": "markdown",
   "metadata": {},
   "source": [
    "Lowest energy where T_z = T. We can estimate the excitation energy via the LDM, applying the isospin correction to the Coulomb term from IMME. This correction appears in Eq. 11.4. For charge radius, we estimate according to \n",
    "\n",
    "$$c_s = r_fA^{1/3}$$\n",
    "\n",
    "where $r_f$ = 1.15 fm. This charge radius comes from the liquid drop model."
   ]
  },
  {
   "cell_type": "code",
   "execution_count": 7,
   "metadata": {},
   "outputs": [
    {
     "name": "stdout",
     "output_type": "stream",
     "text": [
      "LDM excitation energy for 208Pb 0+ T=4, T_z=4 -- -1138.6719 MeV\n",
      "Shift due to isospin = 497.7581 MeV\n"
     ]
    }
   ],
   "source": [
    "# LDM\n",
    "def LDM(A, N, Z,T_z):\n",
    "    T = 15.49*A\n",
    "    S = 17.23*A**(2/3)\n",
    "    V = 3/5*1.44/(1.15*A**(1/3))*(A**2/4-A*T_z+T_z**2) #MeV fm\n",
    "    Sym = 22.6*(N-Z)**2/A\n",
    "    \n",
    "    return T - S - V- Sym\n",
    "\n",
    "E = -LDM(208,126,82,4)\n",
    "print('LDM excitation energy for 208Pb 0+ T=4, T_z=4 -- {:0.4f} MeV'.format(E))\n",
    "\n",
    "print('Shift due to isospin = {:0.4f} MeV'.format(E+1636.430))"
   ]
  },
  {
   "cell_type": "markdown",
   "metadata": {},
   "source": [
    "The excitation energy is shifted by approximately 500 MeV due to the isospin T=4. We compute the shift by subtracting the energy computed from LDM from the experimental energy."
   ]
  },
  {
   "cell_type": "markdown",
   "metadata": {},
   "source": [
    "### HW04 question 5\n",
    "\n",
    "The isospin part of two-body Coulomb interaction between nucleons i and\n",
    "j can be written as $(1 - \\tau_{zi})(1- \\tau_{zj})/4$. Rewrite this as a sum of terms\n",
    "proportional to isospin operators tensor operators of rank 0, 1, and 2."
   ]
  },
  {
   "cell_type": "markdown",
   "metadata": {},
   "source": [
    "We can interpret the product $(1 - \\tau_{zi})(1- \\tau_{zj})/4$ as a tensor product of two tensor operators. Under the tensor product, two operators of ranks $N$ and $M$, $T^N \\otimes T^M$, become a new tensor of rank $T^{N + M}$.\n",
    "\n",
    "$$(1 - \\tau_{zi})(1- \\tau_{zj})\\frac{1}{4} = (1\\otimes 1 - 1\\otimes\\tau_{zj} - \\tau_{zi}\\otimes1 + \\tau_{zi}\\otimes\\tau_{zj})\\frac{1}{4}$$\n",
    "\n",
    "The tensor product of a scalar operator (rank 0) and any other rank $N$ becomes $T^{0 + N}=T^N$. The scalar operator does not change the rank in the tensor product. Finally, we arrive at\n",
    "\n",
    "$$(1 - \\tau_{zi})(1- \\tau_{zj})\\frac{1}{4} = (1 - X^{(1)}_z + X^{(2)}_z)\\frac{1}{4}$$\n",
    "\n",
    "where, $X^{(1)} = \\tau_{zi}+\\tau_{zj}$ and $X^{(2)} = \\tau_{zi}\\otimes\\tau_{zj}$."
   ]
  },
  {
   "cell_type": "markdown",
   "metadata": {},
   "source": [
    "### HW04 question 6\n",
    "\n",
    "$X^{(2)} = [\\tau_i \\otimes \\tau_j ]^2_0$ is two-body operator whose isospin dependence is given a by rank-2 tensor in isospin space, where $\\vec{\\tau} = 2\\vec{t}$ i|s the single-particle isospin operator. Show that the matrix element $< T, T_z | X^{(2)} | T, T_z >$ gives a contribution the a and c terms of the IMME. One could add a term $dT^3_z$ to Eq. 11.1. Show that the rank-2 tensor operator gives d = 0. Hint - you will need Eq. 10.41."
   ]
  },
  {
   "cell_type": "markdown",
   "metadata": {},
   "source": [
    "According to Wigner Eckhart theorem,\n",
    "\n",
    "$$< T, T_z | X^{(2)} | T, T_z > = (-1)^{T-T_z}\\begin{pmatrix}T & 2 & T \\\\ -T_z & 0 & T_z\\end{pmatrix}<T||X^{(2)}||T>$$\n",
    "\n",
    "We compute the 3j coefficient according to Eq. 10.41\n",
    "\n",
    "$$\\begin{pmatrix}T & 2 & T \\\\ -T_z & 0 & T_z\\end{pmatrix} = (-1)^{T-T_z}\\frac{[3T_z^2 - T(T+1)]\\delta_{T_zT_z}}{\\sqrt{(2T-1)T(2T+1)(T+1)(2T+3)}}$$\n",
    "\n",
    "Inserting this result into the expression for the matrix element, we find\n",
    "\n",
    "$$< T, T_z | X^{(2)} | T, T_z > = \\frac{[3T_z^2 - T(T+1)]}{\\sqrt{(2T-1)T(2T+1)(T+1)(2T+3)}}<T||X^{(2)}||T>$$\n",
    "\n",
    "The two body operator $X^{(2)}$ generates terms in $T_z^0$ and $T_z^2$, which contribute to the $a$ and $c$ coefficients in the IMME, respectively. Additionally, we immediately see that operators of rank, or below, $X^{(2)}$ cannot generate terms proportional to $T_z^3$ or higher order, and so we conclude that this rank 2 operator gives $d=0$ for the cubic contribution to the IMME."
   ]
  },
  {
   "cell_type": "markdown",
   "metadata": {},
   "source": [
    "### HW04 question 7\n",
    "\n",
    "What is the kinetic energy for the protons in 208Pb in the Fermi gas model? What is the kinetic energy for the neutrons in 208Pb in the Fermi gas model? Estimate the total Coulomb interaction energy for 208Pb. Use these together with the experimental binding energy to get the total strong interaction\n",
    "energy for 208Pb."
   ]
  },
  {
   "cell_type": "markdown",
   "metadata": {},
   "source": [
    "The average kinetic energy per proton, in the Fermi gas model, is (Eq. 12.21)\n",
    "\n",
    "$$\\frac{<T>_p}{Z} = \\frac{3}{5}\\epsilon_{fp}$$"
   ]
  },
  {
   "cell_type": "markdown",
   "metadata": {},
   "source": [
    "where \n",
    "\n",
    "$$\\epsilon_{fp} = \\left(\\frac{2Z}{A}\\right)^{2/3}\\epsilon_f$$\n",
    "\n",
    "and $\\epsilon_f$ = 36.7 MeV, according to the symmetric nuclear matter approximation.\n",
    "\n",
    "Similarly,\n",
    "\n",
    "$$\\frac{<T>_n}{N} = \\frac{3}{5}\\epsilon_{fn}\\\\ \\epsilon_{fn} = \\left(\\frac{2N}{A}\\right)^{2/3}\\epsilon_f$$"
   ]
  },
  {
   "cell_type": "code",
   "execution_count": 8,
   "metadata": {},
   "outputs": [
    {
     "name": "stdout",
     "output_type": "stream",
     "text": [
      "208Pb, Z = 82, N = 126\n",
      "\n",
      "        <T>p = 1541.0551 MeV\n",
      "        <T>n = 3153.1599 MeV\n"
     ]
    }
   ],
   "source": [
    "def T(n, A):\n",
    "    epsf = 36.7 #MeV\n",
    "    epsfn = (2*n/A)**(2/3)*epsf\n",
    "    T = (3/5)*epsfn*n\n",
    "    \n",
    "    return T\n",
    "\n",
    "print(\"\"\"208Pb, Z = 82, N = 126\n",
    "\n",
    "        <T>p = {:0.4f} MeV\n",
    "        <T>n = {:0.4f} MeV\"\"\".format(T(82, 208), T(126,208)))"
   ]
  },
  {
   "cell_type": "markdown",
   "metadata": {},
   "source": [
    "We estimate the Coulomb interaction energy via the liquid drop model. The liquid drop model (remembering E=-BE) defines\n",
    "\n",
    "$$E = <T> + <V> = -16A+23\\frac{(N-Z)^2}{A}$$\n",
    "\n",
    "We can compute E via the LDM and then solve for $<V>$, inserting $<T> = <T>_n + <T>_p$:\n",
    "\n",
    "$$<V> = -16(208)+23\\frac{(126-82)^2}{208} - (<T>_p + <T>_n)$$"
   ]
  },
  {
   "cell_type": "code",
   "execution_count": 9,
   "metadata": {},
   "outputs": [
    {
     "name": "stdout",
     "output_type": "stream",
     "text": [
      "Approximate Coulomb interaction V = -7808.1381 MeV\n"
     ]
    }
   ],
   "source": [
    "V = -16*208 + 23*(126-82)**2/208 - (T(82,208) + T(126,208))\n",
    "\n",
    "print('Approximate Coulomb interaction V = {:0.4f} MeV'.format(V))"
   ]
  },
  {
   "cell_type": "markdown",
   "metadata": {},
   "source": [
    "To approximate the strong interaction energy, we can take the kinetic energy and Coulomb interaction energy we approximated above, and subtract the result from the experimental binding energy of 208Pb. "
   ]
  },
  {
   "cell_type": "code",
   "execution_count": 10,
   "metadata": {},
   "outputs": [
    {
     "name": "stdout",
     "output_type": "stream",
     "text": [
      "Approximate strong interaction energy S = -1477.4931 MeV\n"
     ]
    }
   ],
   "source": [
    "T_tot = T(82, 208)+ T(126,208)\n",
    "V = -7808.1381\n",
    "E = T_tot + V\n",
    "\n",
    "E_exp = -1636.430 \n",
    "\n",
    "S = E-E_exp\n",
    "\n",
    "print(\"Approximate strong interaction energy S = {:0.4f} MeV\".format(S))"
   ]
  },
  {
   "cell_type": "code",
   "execution_count": null,
   "metadata": {},
   "outputs": [],
   "source": []
  }
 ],
 "metadata": {
  "kernelspec": {
   "display_name": "Python 3",
   "language": "python",
   "name": "python3"
  },
  "language_info": {
   "codemirror_mode": {
    "name": "ipython",
    "version": 3
   },
   "file_extension": ".py",
   "mimetype": "text/x-python",
   "name": "python",
   "nbconvert_exporter": "python",
   "pygments_lexer": "ipython3",
   "version": "3.8.5"
  }
 },
 "nbformat": 4,
 "nbformat_minor": 4
}
