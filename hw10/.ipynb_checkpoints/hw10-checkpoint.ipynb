{
 "cells": [
  {
   "cell_type": "markdown",
   "metadata": {},
   "source": [
    "## This Jupyter notebook answers HW10 questions for PHY 981 Nuclear Structure.\n",
    "\n",
    "Author: Jacob Davison\\\n",
    "Date:   03/24/2021"
   ]
  },
  {
   "cell_type": "markdown",
   "metadata": {},
   "source": [
    "### HW10 question 3\n",
    "\n",
    "Derive Eqs. 22.26 and 22.27."
   ]
  },
  {
   "cell_type": "markdown",
   "metadata": {},
   "source": [
    "Eq. 22.26\n",
    "\n",
    "$$(a_\\lambda^\\dagger a_\\lambda + a_\\lambda a_\\lambda^\\lambda)|\\alpha_1 \\dots \\alpha_n\\lambda\\rangle = |\\alpha_1 \\dots \\alpha_n\\lambda\\rangle$$\n",
    "\n",
    "We can go term-by-term applying the operators according to Eqs. 22.13 through 22.16.\n",
    "\n",
    "Starting with the LHS:\n",
    "$$(a_\\lambda^\\dagger a_\\lambda + a_\\lambda a_\\lambda^\\dagger)|\\alpha_1 \\dots \\alpha_n\\lambda\\rangle = a_\\lambda^\\dagger a_\\lambda|\\alpha_1 \\dots \\alpha_n\\lambda\\rangle + a_\\lambda a_\\lambda^\\dagger|\\alpha_1 \\dots \\alpha_n\\lambda\\rangle$$\n",
    "\n",
    "The first term on the RHS in the expression above evaluates as follow:\n",
    "\n",
    "$$a_\\lambda^\\dagger a_\\lambda|\\alpha_1 \\dots \\alpha_n\\lambda\\rangle = (-1)^na_\\lambda^\\dagger|\\alpha_1 \\dots \\alpha_n\\rangle = (-1)^{2n}|\\alpha_1 \\dots \\alpha_n\\lambda\\rangle = |\\alpha_1 \\dots \\alpha_n\\lambda\\rangle$$\n",
    "\n",
    "The second term on the RHS vanishes by Eq 22.13. Therefore,\n",
    "\n",
    "$$(a_\\lambda^\\dagger a_\\lambda + a_\\lambda a_\\lambda^\\dagger)|\\alpha_1 \\dots \\alpha_n\\lambda\\rangle = |\\alpha_1 \\dots \\alpha_n\\lambda\\rangle$$\n",
    "\n",
    "\n",
    "Eq. 22.27\n",
    "\n",
    "$$(a_\\lambda^\\dagger a_\\lambda + a_\\lambda a_\\lambda^\\lambda)|\\alpha_1 \\dots \\alpha_n\\rangle = |\\alpha_1 \\dots \\alpha_n\\rangle$$\n",
    "\n",
    "Starting with the LHS again:\n",
    "\n",
    "$$(a_\\lambda^\\dagger a_\\lambda + a_\\lambda a_\\lambda^\\dagger)|\\alpha_1 \\dots \\alpha_n\\rangle = a_\\lambda^\\dagger a_\\lambda|\\alpha_1 \\dots \\alpha_n\\rangle + a_\\lambda a_\\lambda^\\dagger|\\alpha_1 \\dots \\alpha_n\\rangle$$\n",
    "\n",
    "The first term in the RHS vanishes according to Eq 22.16. The second term in the RHS evaluates to:\n",
    "\n",
    "$$a_\\lambda a_\\lambda^\\dagger|\\alpha_1 \\dots \\alpha_n\\rangle = (-1)^n a_\\lambda |\\alpha_1 \\dots \\alpha_n\\lambda\\rangle = (-1)^{2n}|\\alpha_1 \\dots \\alpha_n\\rangle = |\\alpha_1 \\dots \\alpha_n\\rangle$$"
   ]
  },
  {
   "cell_type": "markdown",
   "metadata": {},
   "source": [
    "### HW10 question 4\n",
    "\n",
    "Use Eq. 22.31 to obtain an expression for $< C |\\hat{F} |C >$.\n",
    "\n",
    "Eq. 22.31 (second quantized one-body operator)\n",
    "\n",
    "$$\\hat{F} = \\sum_{\\alpha\\beta}<\\alpha|F|\\beta>a_\\alpha^\\dagger a_\\beta$$\n",
    "\n",
    "Plug this operator expression into the matrix element:\n",
    "$$<C|\\hat{F}|C> = \\sum_{\\alpha\\beta}<\\alpha|F|\\beta> <C|a_\\alpha^\\dagger a_\\beta|C>$$\n",
    "\n",
    "We switch to particle-hole formalism and apply Wick's theorem. Let the operator $N[a^\\dagger a]$ be normal ordered with respect to normalized reference $|C>$. Let $N[\\overline{a^\\dagger a}]$ represent the Wick contraction. Then we evaluate the matrix element:\n",
    "$$<C|a_\\alpha^\\dagger a_\\beta|C> = <C|N[a_\\alpha^\\dagger a_\\beta]|C> + <C|N[\\overline{a_\\alpha^\\dagger a_\\beta}]|C> = 0 + \\chi(\\alpha)\\delta_{\\alpha\\beta}$$\n",
    "\n",
    "The function $\\chi(\\alpha)$ returns 1 if the index $\\alpha$ is occupied in $|C>$ and zero otherwise. The $\\delta_{\\alpha\\beta}$ collapses an index. Therefore, we are left with a sum over diagonal occupied states labeled $i$.\n",
    "\n",
    "Finally, we arrive at:\n",
    "\n",
    "$$<C|\\hat{F}|C> = \\sum_{i}<i|F|i>$$\n"
   ]
  },
  {
   "cell_type": "markdown",
   "metadata": {},
   "source": [
    "### HW10 question 5\n",
    "\n",
    "Use the second-quantization method to reduce the following many-particle\n",
    "matrix elements to a sum of single-particle matrix elements for the states\n",
    "(a,b,c,d). (1111) means they are all filled, etc.\n",
    "$< (1100) | \\hat{F} |(1100) >$, $< (1100) | \\hat{F} |(1010) >$, $< (1100) | \\hat{F} |(0101) >$,\n",
    "$< (1100) |\\hat{F} |(0011) >$.\n",
    "\n",
    "First, let's use particle-hole Wick's theorem to derive the matrix element $<C|\\hat{F}|C_i^a>$ where $|C_i^a>$ represents a one-body excitation relative to $|C>$.\n",
    "\n",
    "$$<C|\\hat{F}|C_i^a> = <C|\\hat{F} a_a^\\dagger a_i|C> = \\sum_{\\alpha\\beta}<\\alpha|F|\\beta><C|a_\\alpha^\\dagger a_\\beta a_a^\\dagger a_i|C>$$ \n",
    "\n",
    "$$ <C|a_\\alpha^\\dagger a_\\beta a_a^\\dagger a_i|C> = <C|N[a_\\alpha^\\dagger a_\\beta a_a^\\dagger a_i]|C> + <C|N[\\overline{a_\\alpha^\\dagger \\overline{a_\\beta a_a^\\dagger} a_i}]|C> = 0 + \\chi(\\alpha)\\delta_{\\alpha i}\\pi(\\beta)\\delta_{\\beta a}$$\n",
    "\n",
    "The function $\\pi(\\beta)$ returns 1 if $\\beta$ is unoccupied in the reference, and 0 otherwise. Two deltas collapse both indices in the sum, and we arrive at:\n",
    "\n",
    "$$ <C|\\hat{F}|C_i^a> = <i|F|a>$$\n",
    "\n",
    "The only nonzero matrix element occurs at the excited indices (i.e. the creation/annihilation pair that returns the excited state back to the reference).\n",
    "\n",
    "We proceed by the result in question 4 and question 5. Let $|C> = |(1100)>$\n",
    "\n",
    "$$< (1100) | \\hat{F} |(1100) > = <a|F|a> + <b|F|b>$$\n",
    "\n",
    "$$< (1100) | \\hat{F} |(1010) > = <b|F|c>$$\n",
    "\n",
    "$$< (1100) | \\hat{F} |(0101) > = <a|F|d>$$\n",
    "\n",
    "$$< (1100) |\\hat{F} |(0011) > = 0$$\n",
    "\n",
    "We could derive this last result from Wick's theorem (cannot fully contract two operators with four operators in the double excitation), or we can use the logic that a one-body operator cannot connect states that represent two particle excitations relative to the reference."
   ]
  },
  {
   "cell_type": "markdown",
   "metadata": {},
   "source": [
    "### HW10 question 6\n",
    "\n",
    "For the last problem replace $\\hat{F}$ with the number operator of Eq. 22.33.\n",
    "\n",
    "$$< (1100) | \\hat{N} |(1100) > = <a|1|a> + <b|1|b> = 2$$\n",
    "\n",
    "$$< (1100) | \\hat{N} |(1010) > = <b|1|c> = 0$$\n",
    "\n",
    "$$< (1100) | \\hat{N} |(0101) > = <a|1|d> = 0$$\n",
    "\n",
    "$$< (1100) |\\hat{N} |(0011) > = 0$$"
   ]
  },
  {
   "cell_type": "markdown",
   "metadata": {},
   "source": [
    "### HW10 question 7\n",
    "\n",
    "Calculate the B(E2) for the 1/2+ to 5/2+ transitions in 17F and 17O assuming\n",
    "these states are represented by $1s_{1/2}$ and $0d_{5/2}$. single-particle states outside\n",
    "of a 16O closed shell. Use hamonic-oscillator radial wavefunctions with $\\hbar\\omega$ =\n",
    "14 MeV. Use can use the rme program for the matrix elements. Compare\n",
    "to experiment.\n",
    "\n",
    "The reduced transition probability is defined:\n",
    "\n",
    "$$B(i\\rightarrow f) = \\frac{|\\langle J_f||O(E2)||J_i \\rangle|^2}{(2J_i+1)}$$\n",
    "\n",
    "If we treat the transition states as single-particle states outside of a closed shell, then the transition operator is a sum over a single nucleon. For the proton case,\n",
    "\n",
    "$$O(E2) = r^2Y_\\mu^2(\\hat{r})$$\n",
    "\n",
    "so that the reduced transition probability is \n",
    "\n",
    "$$B(i\\rightarrow f) = \\frac{|\\langle J_f||r^2Y_\\mu^2(\\hat{r})||J_i \\rangle|^2}{(2J_i+1)}$$\n",
    "\n",
    "We compute the matrix element $\\langle J_f||r^2Y\\mu^2(\\hat{r})||J_i \\rangle$ in a harmonic oscillator basis using `rme`. For the 1/2+ to 5/2+ transition, the inputs k1 and k2 to `rme` are 4 and 6 respectively. The output is in units of $b^2$, and we get\n",
    "\n",
    "$$\\langle 0d_{5/2}||r^2Y_\\mu^2(\\hat{r})||1s_{1/2}\\rangle = -2.18510 (\\frac{41.1}{14}) = -6.41483$$\n",
    "\n",
    "Then $B(E2)$\n",
    "\n",
    "$$B(E2) = \\frac{(-6.41483)^2}{2*0.5+1} = 20.57502$$"
   ]
  },
  {
   "cell_type": "markdown",
   "metadata": {},
   "source": [
    "### HW10 question 8\n",
    "\n",
    "What are all possible ($\\ell$, S, T) values for each of the following:\n",
    "\n",
    "a) $J^\\pi=3^-$ resonance of the two-neutron system\\\n",
    "\n",
    "Parity restricts $\\ell$=odd; For a two-neutron system, S=1 to satisfy antisymmetry. Therefore,\n",
    "\n",
    "($\\ell$=3,S=1,T=1)\n",
    "\n",
    "b) $J^\\pi=2^-$ resonance of the two-nucleon system with $T_z=1$\\\n",
    "\n",
    "Parity restricts $\\ell$=odd; We can generate $J$ states $J = \\quad\\ell-1, \\ell, \\ell+1$; Must have $\\ell$+S+T=odd; $T_z=1$ restricts $T=1$\n",
    "\n",
    "($\\ell$=1,S=1,T=1); ($\\ell$=3,S=1,T=1)\n",
    "\n",
    "c) $J^\\pi=2^+$ resonance of the two-nucleon system with $T_z=0$\\\n",
    "\n",
    "Parity restricts $\\ell$=even; We can generate $J$ states $J = \\quad\\ell-1, \\ell, \\ell+1$; Must have $\\ell$+S+T=odd; $T_z=0$ means $T=0,1$\n",
    "\n",
    "\n",
    "($\\ell$=2,S=0,T=1); ($\\ell$=2,S=1,T=0)"
   ]
  },
  {
   "cell_type": "markdown",
   "metadata": {},
   "source": [
    "### HW10 question 9\n",
    "\n",
    "For the configuration $(0f_{7/2})^2$ for two neutrons what are the allowed J values?\n",
    "\n",
    "jj-coupling T=1 $\\implies$ J=0,2,4,6; the wavefunction vanishes when J=odd and $k_1=k_2$"
   ]
  },
  {
   "cell_type": "markdown",
   "metadata": {},
   "source": [
    "### HW10 question 10\n",
    "\n",
    "For the configuration $(0f_{7/2}; 1p_{3/2})$ for two neutrons what are the allowed J\n",
    "values?\n",
    "\n",
    "jj-coupling $\\implies$ J=2,3,4,5"
   ]
  },
  {
   "cell_type": "markdown",
   "metadata": {},
   "source": [
    "### HW10 question 11\n",
    "\n",
    "For the configuration $(0f_{7/2})^2$ for two nucleons what are the allowed combinations of (J, T) values?\n",
    "\n",
    "$J=0,1,2,3,4,5,6,7$\n",
    "\n",
    "$J+T$ must be odd (or else wavefunction vanishes)\n",
    "\n",
    "Therefore, (J,T) = (0,1), (1,0), (2,1), (3,0), (4,1), (5,0), (6,1), (7,0)"
   ]
  },
  {
   "cell_type": "code",
   "execution_count": null,
   "metadata": {},
   "outputs": [],
   "source": []
  }
 ],
 "metadata": {
  "kernelspec": {
   "display_name": "Python 3",
   "language": "python",
   "name": "python3"
  },
  "language_info": {
   "codemirror_mode": {
    "name": "ipython",
    "version": 3
   },
   "file_extension": ".py",
   "mimetype": "text/x-python",
   "name": "python",
   "nbconvert_exporter": "python",
   "pygments_lexer": "ipython3",
   "version": "3.8.5"
  }
 },
 "nbformat": 4,
 "nbformat_minor": 4
}
