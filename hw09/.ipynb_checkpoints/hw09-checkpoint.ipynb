{
 "cells": [
  {
   "cell_type": "markdown",
   "metadata": {},
   "source": [
    "## This Jupyter notebook answers HW09 questions for PHY 981 Nuclear Structure.\n",
    "\n",
    "Author: Jacob Davison\\\n",
    "Date:   03/16/2021"
   ]
  },
  {
   "cell_type": "markdown",
   "metadata": {},
   "source": [
    "### HW09 question 3\n",
    "\n",
    "For 160-Gd what it the $\\beta_2$ value obtained from the experimental B(E2, $\\uparrow$)?"
   ]
  },
  {
   "cell_type": "markdown",
   "metadata": {},
   "source": [
    "This comes from Eq. 20.50\n",
    "\n",
    "$$\\beta_2 = \\frac{4\\pi}{5}\\frac{\\sqrt{B(E2,0^+\\rightarrow2^+)}}{eZ<r^2>_o}$$\n",
    "\n",
    "Note that the transition probability $B(E2,0^+\\rightarrow2^+)$, in terms of electromagnetic decay, is\n",
    "\n",
    "$$B(E2,0^+\\rightarrow2^+) = \\frac{2(2)+1}{2(0)+1}B(E2,2^+\\rightarrow0^+)= 5B(E2,2^+\\rightarrow0^+)$$\n",
    "\n",
    "according to Eq. 7.75.\n",
    "\n",
    "The value $<r^2>_o$ is the spherical (not deformed) mean-square charge radius, which, experimentally according to https://www.nndc.bnl.gov/ensdf/getadopted.jsp?nuc=160Gd, is (5.17 fm)$^2$, or 26.8 fm$^2$. From `bem`, the transition probability $B(E2,2^+\\rightarrow0^+)$ = 87480 e$^2$ fm$^4$ for $T_{1/2}$ = 2720 ps and $E_g$ = 0.075 MeV.\n",
    "\n",
    "Finally, \n",
    "\n",
    "$$\\beta_2 = \\frac{4\\pi}{5}\\frac{\\sqrt{5(87480)\\text{ e$^2$ fm$^4$}}}{e(64)26.8\\text{ fm^$2$}} = 0.969$$\n"
   ]
  },
  {
   "cell_type": "markdown",
   "metadata": {},
   "source": [
    "### HW09 question 4\n",
    "\n",
    "For 160-Gd what is the increase (from spherical) of the rms charge radius due\n",
    "to this deformation?\n",
    "\n",
    "\n",
    "The deformed mean-square radius, as function of $\\beta$ is given by Eq. 20.13.\n",
    "\n",
    "$$<r^2> = <r^2>_o\\left(1+\\frac{5}{4\\pi}\\beta^2\\right)$$\n",
    "\n",
    "We can compute the RMS charge radius increase due to $\\beta$ as a ratio of deformed to spherical\n",
    "\n",
    "$$\\sqrt{\\frac{<r^2>}{<r^2>_o}} = \\sqrt{\\left(1+\\frac{5}{4\\pi}\\beta^2\\right)} = \\sqrt{\\left(1+\\frac{5}{4\\pi}(0.969)^2\\right)}=1.17$$\n",
    "\n",
    "In other words, the deformed RMS charge radius is 1.17 times as big as the spherical RMS charge radius, or given in absolute terms, the deformation increases the RMS charge radius by $5.17 \\times (1.17-1)$ fm = 0.879 fm.\n",
    "\n",
    "\n",
    "\n",
    "$\\text{}$\n"
   ]
  },
  {
   "cell_type": "markdown",
   "metadata": {},
   "source": [
    "### HW09 question 5\n",
    "\n",
    "Use the dens to obtain the spherical rms charge radius for 160-Gd with the\n",
    "Skx Skyrme interaction.\n",
    "\n",
    "input to `dens`: az = 160,64; `gp`\\\n",
    "output from `dens`: spherical RMS charge radius 5.066 fm"
   ]
  },
  {
   "cell_type": "markdown",
   "metadata": {},
   "source": [
    "### HW09 question 6\n",
    "\n",
    "Add the increase from the deformation to obtain the total rms charge radius. Compare to experiment?\n",
    "\n",
    "R$_{ch}$=5.066 fm (`den`) + 0.879 fm (question 4) = 5.945 fm"
   ]
  },
  {
   "cell_type": "markdown",
   "metadata": {},
   "source": [
    "### HW09 question 7\n",
    "\n",
    "What is the moment of itertia for 160Gd obtained from the energy of the 2+\n",
    "state?"
   ]
  },
  {
   "cell_type": "markdown",
   "metadata": {},
   "source": [
    "Moment of intertia comes from Eq. 20.32\n",
    "\n",
    "$$E_R = \\frac{\\hbar^2L(L+1)}{2I}$$\n",
    "\n",
    "The 2$^+$ state of $^{160}$Gd has energy 0.075 MeV. Therefore,\n",
    "\n",
    "$$I = \\frac{6}{2*0.075} = 40 \\text{ $\\hbar^2$/MeV}$$"
   ]
  },
  {
   "cell_type": "markdown",
   "metadata": {},
   "source": [
    "### HW09 question 8\n",
    "\n",
    "A recent experiment for 43S at the NSCL was interpreted in terms of deformed Nilsson orbit model (paper attached). What are the $\\Omega[N,n_z,\\Lambda]$ quantum numbers associated with the observed data. Paper link: https://journals.aps.org/prl/pdf/10.1103/PhysRevLett.125.232501\n",
    "\n",
    "The highest filled neutron single particle state comes in the band from K=1/2 to K=7/2, with the quantum numbers $5/2^-[N,n_z,3]$. I don't know how to read off the N,$n_z$ values"
   ]
  },
  {
   "cell_type": "code",
   "execution_count": null,
   "metadata": {},
   "outputs": [],
   "source": []
  }
 ],
 "metadata": {
  "kernelspec": {
   "display_name": "Python 3",
   "language": "python",
   "name": "python3"
  },
  "language_info": {
   "codemirror_mode": {
    "name": "ipython",
    "version": 3
   },
   "file_extension": ".py",
   "mimetype": "text/x-python",
   "name": "python",
   "nbconvert_exporter": "python",
   "pygments_lexer": "ipython3",
   "version": "3.8.5"
  }
 },
 "nbformat": 4,
 "nbformat_minor": 4
}
