{
 "cells": [
  {
   "cell_type": "markdown",
   "metadata": {},
   "source": [
    "## This Jupyter notebook answers HW05 questions for PHY 981 Nuclear Structure.\n",
    "\n",
    "Author: Jacob Davison\\\n",
    "Date:   02/16/2021"
   ]
  },
  {
   "cell_type": "markdown",
   "metadata": {},
   "source": [
    "### HW05 question 3\n",
    "\n",
    "Use the liquid drop model to calculate the energy of the T=2 state in 20Ne\n",
    "that is the IAS of the ground state of 20O. Compare to experiment."
   ]
  },
  {
   "cell_type": "markdown",
   "metadata": {},
   "source": [
    "The shift does not depend on the Coulomb term. The shift *does* come from the symmetry term multiplied by $\\alpha_4$. The difference in the symmetry term between the T=2 states of 20Ne and 20O is\n",
    "\n",
    "$$-\\alpha_4\\frac{0^2 - 4^2}{20} = 18.08 \\text{ MeV}$$\n",
    "\n",
    "The ground state (0$^+$) of the T=2 20Ne is 16.732 MeV according to NNDC. The isospin shifts the energy by about 1.3 MeV."
   ]
  },
  {
   "cell_type": "markdown",
   "metadata": {},
   "source": [
    "### HW05 question 4\n",
    "\n",
    "Derive Eq. 13.8 from 13.7\n",
    "\n",
    "Eq. 13.7 \n",
    "$$|\\Psi> = \\sum_ac_a|\\Phi_a>$$\n",
    "\n",
    "Eq. 13.8\n",
    "$$\\sum_a<\\Phi_b|H|\\Phi_a>c_a = Ec_b$$"
   ]
  },
  {
   "cell_type": "markdown",
   "metadata": {},
   "source": [
    "We start we Eq 13.7 and multiply $<\\Phi_b|H$ from the left. \n",
    "\n",
    "$$<\\Phi_b|H|\\Psi> = \\sum_a<\\Phi_b|H|\\Phi_a>c_a$$\n",
    "\n",
    "Note that $H|\\Psi> = E|\\Psi>$ (the time-independent Schrodinger equation).\n",
    "\n",
    "$$E<\\Phi_b|\\Psi> = \\sum_a<\\Phi_b|H|\\Phi_a>c_a$$\n",
    "\n",
    "Note that $<\\Phi_b|\\Psi> = c_a\\delta_{ab} = c_b$ given that $\\{|\\Phi_a>\\}$ span a complete orthonormal basis. Finally,\n",
    "\n",
    "$$Ec_b = \\sum_a<\\Phi_b|H|\\Phi_a>c_a. \\quad \\blacksquare$$"
   ]
  },
  {
   "cell_type": "markdown",
   "metadata": {},
   "source": [
    "### HW05 question 5\n",
    "\n",
    "Derive Eq. 13.19 for two-particles (n = 2) wavefunctions."
   ]
  },
  {
   "cell_type": "markdown",
   "metadata": {},
   "source": [
    "For two particles, $|\\Phi_a> = \\frac{1}{\\sqrt{2}}(\\phi_\\alpha(1)\\phi_\\beta(2) - \\phi_\\beta(1)\\phi_\\alpha(2))$. The one-body operator is $T+U = T_1 + U_1 + T_2 + U_2$. The diagonal matrix element is"
   ]
  },
  {
   "cell_type": "markdown",
   "metadata": {},
   "source": [
    "$$\\frac{1}{\\sqrt{2}}(\\phi_\\alpha(1)\\phi_\\beta(2) - \\phi_\\beta(1)\\phi_\\alpha(2))^*(T_1 + U_1 + T_2 + U_2)\\frac{1}{\\sqrt{2}}(\\phi_\\alpha(1)\\phi_\\beta(2) - \\phi_\\beta(1)\\phi_\\alpha(2))\\\\=\\frac{1}{2}(\\phi_\\alpha(1)\\phi_\\beta(2) - \\phi_\\beta(1)\\phi_\\alpha(2))^*((T_1 + U_1)\\phi_\\alpha(1)\\phi_\\beta(2) - (T_1 + U_1)\\phi_\\beta(1)\\phi_\\alpha(2) + \\phi_\\alpha(1)(T_2 + U_2)\\phi_\\beta(2) - \\phi_\\beta(1)(T_2 + U_2)\\phi_\\alpha(2)\\\\=\\frac{1}{2}(\\phi_\\alpha(1)^*\\phi_\\beta(2)^*(T_1 + U_1)\\phi_\\alpha(1)\\phi_\\beta(2) - \\phi_\\alpha(1)^*\\phi_\\beta(2)^*(T_1 + U_1)\\phi_\\beta(1)\\phi_\\alpha(2) + \\phi_\\alpha(1)^*\\phi_\\beta(2)^*\\phi_\\alpha(1)(T_2 + U_2)\\phi_\\beta(2) - \\phi_\\alpha(1)^*\\phi_\\beta(2)^*\\phi_\\beta(1)(T_2 + U_2)\\phi_\\alpha(2) - \\phi_\\beta(1)^*\\phi_\\alpha(2)^*(T_1 + U_1)\\phi_\\alpha(1)\\phi_\\beta(2) + \\phi_\\beta(1)^*\\phi_\\alpha(2)^*(T_1 + U_1)\\phi_\\beta(1)\\phi_\\alpha(2) - \\phi_\\alpha(1)^*\\phi_\\beta(1)^*\\phi_\\alpha(2)(T_2 + U_2)\\phi_\\beta(2) + \\phi_\\beta(1)^*\\phi_\\beta(1)^*\\phi_\\alpha(2)(T_2 + U_2)\\phi_\\alpha(2)$$"
   ]
  },
  {
   "cell_type": "markdown",
   "metadata": {},
   "source": [
    "We pause for a moment to realize that $T_k + U_k$ will not connect two different single particle states. We have that $(T + U)|\\alpha> = \\epsilon_\\alpha|\\alpha>$ and $<\\alpha_m|\\alpha_n> = \\delta_{mn}$. So we can eliminate cross terms in the above equation, and only deal with terms $\\phi_{S}(k)^*(T_k + U_k)\\phi_S(k)$ where $S$ can be $\\alpha$ or $\\beta$. Then,"
   ]
  },
  {
   "cell_type": "markdown",
   "metadata": {},
   "source": [
    "$$=\\frac{1}{2}(\\phi_\\alpha(1)^*(T_1 + U_1)\\phi_\\alpha(1)\\phi_\\beta(2)^*\\phi_\\beta(2) + \\phi_\\beta(1)^*(T_1 + U_1)\\phi_\\beta(1)\\phi_\\alpha(2)^*\\phi_\\alpha(2) + \\phi_\\alpha(1)^*\\phi_\\alpha(1)\\phi_\\beta(2)^*(T_2 + U_2)\\phi_\\beta(2) + \\phi_\\beta(1)^*\\phi_\\beta(1)\\phi_\\alpha(2)^*(T_2 + U_2)\\phi_\\alpha(2)\\\\=\\frac{1}{2}(\\phi_\\alpha(1)^*(T_1 + U_1)\\phi_\\alpha(1) + \\phi_\\beta(1)^*(T_1 + U_1)\\phi_\\beta(1) + \\phi_\\beta(2)^*(T_2 + U_2)\\phi_\\beta(2) + \\phi_\\alpha(2)^*(T_2 + U_2)\\phi_\\alpha(2))$$"
   ]
  },
  {
   "cell_type": "markdown",
   "metadata": {},
   "source": [
    "Finally, we consolidate terms.\n",
    "\n",
    "$$= \\frac{1}{2}\\left(\\sum_S\\phi_S(1)^*(T_1 + U_1)\\phi_S(1) + \\sum_S\\phi_S(2)^*(T_2 + U_2)\\phi_S(2)\\right)$$"
   ]
  },
  {
   "cell_type": "markdown",
   "metadata": {},
   "source": [
    "And then we sum over *all states occupied by 1 and 2* in each term. The unrestricted sum brings an extra factor of two that cancels the 1/2. Finally, we can combine the terms to get Eq. 13.19\n",
    "\n",
    "$$=\\sum_{S=\\alpha,\\beta}\\phi_S^*(T+U)\\phi_S. \\quad \\blacksquare$$"
   ]
  },
  {
   "cell_type": "markdown",
   "metadata": {},
   "source": [
    "### HW05 question 6\n",
    "\n",
    "Derive Eq. 13.21 for two-particles (n = 2) wavefunctions."
   ]
  },
  {
   "cell_type": "markdown",
   "metadata": {},
   "source": [
    "For two particles, the interaction $\\sum_{k<l}V_{kl} = V_{12}$. This time we will write $|\\Phi_a> = \\frac{1}{\\sqrt{2}}(|\\alpha\\beta> - |\\beta\\alpha>)$ where\n",
    "\n",
    "$$<\\Phi_a|V_{12}|\\Phi_a> = \\frac{1}{2}(<\\alpha\\beta| - <\\beta\\alpha|)V_{12}(|\\alpha\\beta> - |\\beta\\alpha>)\\\\= \\frac{1}{2}(<\\alpha\\beta|V_{12}|\\alpha\\beta> - <\\alpha\\beta|V_{12}|\\beta\\alpha> - <\\beta\\alpha|V_{12}|\\alpha\\beta>  + <\\beta\\alpha|V_{12}|\\beta\\alpha>)$$"
   ]
  },
  {
   "cell_type": "markdown",
   "metadata": {},
   "source": [
    "At this point, we recall that the Slater determinant ensures $|\\alpha\\beta>=-|\\beta\\alpha>$. Then, we can combine terms to get\n",
    "\n",
    "$$=<\\alpha\\beta|V_{12}|\\alpha\\beta> - <\\alpha\\beta|V_{12}|\\beta\\alpha> \\equiv <\\alpha\\beta|V|\\alpha\\beta>_{A}.$$\n",
    "\n",
    "If we unrestrict the sum $\\alpha < \\beta$, and instead sum over all $\\alpha\\beta$, then we just have to multiply by 1/2 to remove the double counting."
   ]
  },
  {
   "cell_type": "markdown",
   "metadata": {},
   "source": [
    "### HW05 question 7\n",
    "\n",
    "Derive Eq. 13.29.\n",
    "\n",
    "Eq. 13.29 is \n",
    "\n",
    "$$E(Ch^{-1}h'^{-1}) = E(C) - e_h - e_{h'} - <hh'|V|hh'>$$"
   ]
  },
  {
   "cell_type": "markdown",
   "metadata": {},
   "source": [
    "The energy of a configuration $C$ is \n",
    "\n",
    "$$E(C) = <C|H|C> = \\sum_{\\alpha}<\\alpha|T|\\alpha> + \\frac{1}{2}\\sum_{\\alpha\\beta}<\\alpha\\beta|V|\\alpha\\beta>$$\n",
    "\n",
    "The energy of a configuration with two states h and h' *removed* from $C$ is simply the negative of the energy of a configuration with two states h and h' *added* to $C$. We can understand the energy of state $Chh'$ using Eq. 13.24, 13.25, and 13.26.\n",
    "\n",
    "$$E(Ch) = E(C) + <h|T|h> + \\sum_{\\alpha}<h\\alpha|V|h\\alpha> = E(Ch'; h\\rightarrow h')$$"
   ]
  },
  {
   "cell_type": "markdown",
   "metadata": {},
   "source": [
    "$$E(Chh') = E(C)+ <h|T|h> + \\sum_{\\alpha}<h\\alpha|V|h\\alpha>+ <h'|T|h'> + \\sum_{\\alpha}<h'\\alpha|V|h'\\alpha> + <hh'|V|hh'>$$\n",
    "\n",
    "The extra term comes from the additional energy contributed by the interaction between states h and h'."
   ]
  },
  {
   "cell_type": "markdown",
   "metadata": {},
   "source": [
    "If we let \n",
    "\n",
    "$$e_h = E(Ch) - E(C) = <h|T|h> + \\sum_{\\alpha}<h\\alpha|V|h\\alpha>, $$\n",
    "\n",
    "then\n",
    "\n",
    "$$E(Chh') = E(C) + e_h + e_{h'} + <hh'|V|hh'>$$"
   ]
  },
  {
   "cell_type": "markdown",
   "metadata": {},
   "source": [
    "We realize that the configuration $Ch^{-1}h'^{-1}$ simply removes the single particle energys $e_h, e_{h'}$ and the interaction energy $<hh'|V|hh'>$ from the configuration $C$, so that we arrive at\n",
    "\n",
    "$$E(Ch^{-1}h'^{-1}) = E(C) - e_h - e_{h'} - <hh'|V|hh'> \\quad \\blacksquare$$"
   ]
  },
  {
   "cell_type": "code",
   "execution_count": null,
   "metadata": {},
   "outputs": [],
   "source": []
  }
 ],
 "metadata": {
  "kernelspec": {
   "display_name": "Python 3",
   "language": "python",
   "name": "python3"
  },
  "language_info": {
   "codemirror_mode": {
    "name": "ipython",
    "version": 3
   },
   "file_extension": ".py",
   "mimetype": "text/x-python",
   "name": "python",
   "nbconvert_exporter": "python",
   "pygments_lexer": "ipython3",
   "version": "3.8.5"
  }
 },
 "nbformat": 4,
 "nbformat_minor": 4
}
