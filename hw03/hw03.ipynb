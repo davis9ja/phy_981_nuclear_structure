{
 "cells": [
  {
   "cell_type": "markdown",
   "metadata": {},
   "source": [
    "## This Jupyter notebook answers HW03 questions for PHY 981 Nuclear Structure.\n",
    "\n",
    "Author: Jacob Davison\\\n",
    "Date:   02/03/2021"
   ]
  },
  {
   "cell_type": "markdown",
   "metadata": {},
   "source": [
    "### HW02 question 7\n",
    "\n",
    "Derive Eqs. 10.71 and 10.72.\n",
    "\n",
    "Eq. 10.71\n",
    "$$<J||1||J'> = \\delta_{JJ'}\\sqrt{2J+1}$$\n",
    "\n",
    "This equation gives the reduced matrix element corresponding to the matrix element of irreducible tensor operator $T^{\\lambda=0}$, where $T^{\\lambda=0}$ is a scalar operator we call $1$. This situation is an explicit evaluation of the irreducible tensor operator matrix element, which generally couples angular momentum states, given by $T^{\\lambda}_\\mu$, where $\\lambda$ is the tensor rank and $\\mu$ is a component which runs $-\\lambda, -\\lambda+1, \\dots +\\lambda$.\n",
    "\n",
    "We start by evaluating the matrix element of the irreducible tensor operator:\n",
    "\n",
    "$$<JM|1|J'M'> = (-1)^{J-M} \\begin{pmatrix} J & 0 & J' \\\\ -M & 0 & M' \\end{pmatrix}<J||1||J'>.$$\n",
    "\n",
    "The LHS evaluates to \n",
    "\n",
    "$$<JM|1|J'M'>  = \\delta_{JJ'}\\delta_{MM'}.$$\n",
    "\n",
    "The RHS evaluates to (according to Eq. 10.39, which evaluates a special case of 3j coefficient)\n",
    "\n",
    "$$(-1)^{J-M} \\begin{pmatrix} J & 0 & J' \\\\ -M & 0 & M' \\end{pmatrix}<J||1||J'> = (-1)^{2(J-M)}\\frac{\\delta_{MM'}}{\\sqrt{(2J+1)}}<J||1||J'>$$\n",
    "\n",
    "Now we can take the LHS and RHS to solve for the reduced matrix element, the $\\delta_{MM'}$ terms cancel, and we come to\n",
    "\n",
    "$$<J||1||J'> = \\delta_{JJ'}\\sqrt{(2J+1)} \\quad \\blacksquare.$$"
   ]
  },
  {
   "cell_type": "markdown",
   "metadata": {},
   "source": [
    "Eq. 10.72\n",
    "$$<J||J^{\\lambda=1}||J'> = \\delta_{JJ'}\\sqrt{J(J+1)(2J+1)}$$\n",
    "\n",
    "We begin in exactly the same way as above. We are working with the tensor operator $T^{\\lambda=1}_\\mu$, although to evaluate the reduced matrix element we can choose an arbitrary $\\mu$, because the reduced matrix elements sheds any $\\mu$ dependence. We set $\\mu =0$, and let $T^1_0 = J_z$; then the irreducible tensor operator is \n",
    "\n",
    "$$<JM|J_z|J'M'> = (-1)^{J-M} \\begin{pmatrix} J & 1 & J' \\\\ -M & 0 & M' \\end{pmatrix}<J||J_z||J'>.$$\n",
    "\n",
    "The LHS evaluates to\n",
    "\n",
    "$$<JM|J_z|J'M'>  = M\\delta_{JJ'}\\delta_{MM'}.$$\n",
    "\n",
    "The RHS evaluates to (according to Eq. 10.40, another special case of 3j coefficient)\n",
    "\n",
    "$$(-1)^{J-M} \\begin{pmatrix} J & 1 & J' \\\\ -M & 0 & M' \\end{pmatrix}<J||J_z||J'> = (-1)^{2(J-M)}\\frac{M\\delta_{MM'}}{\\sqrt{J(2J+1)(J+1)}}<J||J_z||J'>$$\n",
    "\n",
    "We set LHS = RHS, cancel the common terms $M$ and $\\delta_{MM'}$, and solve for the reduced matrix element in order to arrive at the expression\n",
    "\n",
    "$$<J||J_z||J'> = \\delta_{JJ'}\\sqrt{J(2J+1)(J+1)} \\quad \\blacksquare.$$"
   ]
  },
  {
   "cell_type": "code",
   "execution_count": null,
   "metadata": {},
   "outputs": [],
   "source": []
  }
 ],
 "metadata": {
  "kernelspec": {
   "display_name": "Python 3",
   "language": "python",
   "name": "python3"
  },
  "language_info": {
   "codemirror_mode": {
    "name": "ipython",
    "version": 3
   },
   "file_extension": ".py",
   "mimetype": "text/x-python",
   "name": "python",
   "nbconvert_exporter": "python",
   "pygments_lexer": "ipython3",
   "version": "3.8.5"
  }
 },
 "nbformat": 4,
 "nbformat_minor": 4
}
