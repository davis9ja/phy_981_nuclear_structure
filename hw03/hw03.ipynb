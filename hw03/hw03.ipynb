{
 "cells": [
  {
   "cell_type": "markdown",
   "metadata": {},
   "source": [
    "## This Jupyter notebook answers HW03 questions for PHY 981 Nuclear Structure.\n",
    "\n",
    "Author: Jacob Davison\\\n",
    "Date:   02/03/2021"
   ]
  },
  {
   "cell_type": "markdown",
   "metadata": {},
   "source": [
    "### HW03 question 4\n",
    "\n",
    "For the 2+ to 2+ gamma decay what are the allowed $\\pi \\lambda$ values? Which are the most\n",
    "probable?\n",
    "\n",
    "\n",
    "Angular momentum and parity selection rules dictate that this transition should occur by magnetic multipole transition since the total angular momentum does not change. The parity does not change, which means only odd multipole transitions are allowed. Therefore, allowed $\\pi \\lambda$ values are $M1, M3, M5, ...$, with probability in descending order. That is, $M1$ is the most probable, followed by $M3$, and then $M5$ and so on."
   ]
  },
  {
   "cell_type": "markdown",
   "metadata": {},
   "source": [
    "### HW03 question 5\n",
    "\n",
    "For the allowed beta decay of a 2+ states what are the allowed $J^\\pi_f$ values for the final state?"
   ]
  },
  {
   "cell_type": "markdown",
   "metadata": {},
   "source": [
    "$$2^+ \\longrightarrow 3^+,1^+,0^-,4^-$$"
   ]
  },
  {
   "cell_type": "markdown",
   "metadata": {},
   "source": [
    "### HW03 question 6\n",
    "\n",
    "Find the probability for $m_s = 1/2$ (the m component of the spin wavefunction) in the $\\ell$-s coupled wavefunction $| f_{5/2}, m = 5/2 >$."
   ]
  },
  {
   "cell_type": "markdown",
   "metadata": {},
   "source": [
    "The probability is given by the overlap $|< f_{5/2}, m=5/2|\\sigma_{1/2}|f_{5/2},m=5/2>|^2$. Therefore, the probability is 1/4."
   ]
  },
  {
   "cell_type": "markdown",
   "metadata": {},
   "source": [
    "### HW03 question 7\n",
    "\n",
    "Derive Eqs. 10.71 and 10.72.\n",
    "\n",
    "Eq. 10.71\n",
    "$$<J||1||J'> = \\delta_{JJ'}\\sqrt{2J+1}$$\n",
    "\n",
    "This equation gives the reduced matrix element corresponding to the matrix element of irreducible tensor operator $T^{\\lambda=0}$, where $T^{\\lambda=0}$ is a scalar operator we call $1$. This situation is an explicit evaluation of the irreducible tensor operator matrix element, which generally couples angular momentum states, given by $T^{\\lambda}_\\mu$, where $\\lambda$ is the tensor rank and $\\mu$ is a component which runs $-\\lambda, -\\lambda+1, \\dots +\\lambda$.\n",
    "\n",
    "We start by evaluating the matrix element of the irreducible tensor operator:\n",
    "\n",
    "$$<JM|1|J'M'> = (-1)^{J-M} \\begin{pmatrix} J & 0 & J' \\\\ -M & 0 & M' \\end{pmatrix}<J||1||J'>.$$\n",
    "\n",
    "The LHS evaluates to \n",
    "\n",
    "$$<JM|1|J'M'>  = \\delta_{JJ'}\\delta_{MM'}.$$\n",
    "\n",
    "The RHS evaluates to (according to Eq. 10.39, which evaluates a special case of 3j coefficient)\n",
    "\n",
    "$$(-1)^{J-M} \\begin{pmatrix} J & 0 & J' \\\\ -M & 0 & M' \\end{pmatrix}<J||1||J'> = (-1)^{2(J-M)}\\frac{\\delta_{MM'}}{\\sqrt{(2J+1)}}<J||1||J'>$$\n",
    "\n",
    "Now we can take the LHS and RHS to solve for the reduced matrix element, the $\\delta_{MM'}$ terms cancel, and we come to\n",
    "\n",
    "$$<J||1||J'> = \\delta_{JJ'}\\sqrt{(2J+1)} \\quad \\blacksquare.$$"
   ]
  },
  {
   "cell_type": "markdown",
   "metadata": {},
   "source": [
    "Eq. 10.72\n",
    "$$<J||J^{\\lambda=1}||J'> = \\delta_{JJ'}\\sqrt{J(J+1)(2J+1)}$$\n",
    "\n",
    "We begin in exactly the same way as above. We are working with the tensor operator $T^{\\lambda=1}_\\mu$, although to evaluate the reduced matrix element we can choose an arbitrary $\\mu$, because the reduced matrix elements sheds any $\\mu$ dependence. We set $\\mu =0$, and let $T^1_0 = J_z$; then the irreducible tensor operator is \n",
    "\n",
    "$$<JM|J_z|J'M'> = (-1)^{J-M} \\begin{pmatrix} J & 1 & J' \\\\ -M & 0 & M' \\end{pmatrix}<J||J_z||J'>.$$\n",
    "\n",
    "The LHS evaluates to\n",
    "\n",
    "$$<JM|J_z|J'M'>  = M\\delta_{JJ'}\\delta_{MM'}.$$\n",
    "\n",
    "The RHS evaluates to (according to Eq. 10.40, another special case of 3j coefficient)\n",
    "\n",
    "$$(-1)^{J-M} \\begin{pmatrix} J & 1 & J' \\\\ -M & 0 & M' \\end{pmatrix}<J||J_z||J'> = (-1)^{2(J-M)}\\frac{M\\delta_{MM'}}{\\sqrt{J(2J+1)(J+1)}}<J||J_z||J'>$$\n",
    "\n",
    "We set LHS = RHS, cancel the common terms $M$ and $\\delta_{MM'}$, and solve for the reduced matrix element in order to arrive at the expression\n",
    "\n",
    "$$<J||J_z||J'> = \\delta_{JJ'}\\sqrt{J(2J+1)(J+1)} \\quad \\blacksquare.$$"
   ]
  },
  {
   "cell_type": "markdown",
   "metadata": {},
   "source": [
    "### HW03 question 8\n",
    "\n",
    "Find numerical values for $< s_{1/2}||Y^{(2)}||s_{1/2} >$, $< d_{5/2}||Y^{(2)}||d_{5/2} >$, $< d_{5/2}||Y^{(2)}||d_{3/2} >$.\n",
    "\n",
    "Compare the results with Eq. 9.83."
   ]
  },
  {
   "cell_type": "markdown",
   "metadata": {},
   "source": [
    "For this problem, we will be using the application `rme`, provided in nushellx, to compute the numerical values for the reduced matrix elements above. Next, we will use Eq. 10.83 to compute those same values directly.\n",
    "\n",
    "Eq. 10.83\n",
    "\n",
    "$$<\\ell sj||Y^\\lambda||\\ell's'j'> = \\frac{1}{2}[1+(-1)^{\\ell + \\lambda + \\ell}](-1)^{j+1/2} \\times \\sqrt{\\frac{(2j+1)(2\\lambda+1)(2j'+1)}{4\\pi}} \\begin{pmatrix} j & \\lambda & j' \\\\ 1/2 & 0 & -1/2 \\end{pmatrix}.$$"
   ]
  },
  {
   "cell_type": "code",
   "execution_count": 1,
   "metadata": {},
   "outputs": [
    {
     "name": "stdout",
     "output_type": "stream",
     "text": [
      "RME for s-1/2,s-1/2 = -0.00000\n",
      "RME for d-5/2,d-5/2 = -0.73870\n",
      "RME for d-5/2,d-3/2 = -0.36935\n"
     ]
    }
   ],
   "source": [
    "import numpy as np\n",
    "\n",
    "# get 3J coefficient from sym app\n",
    "def rme(l,j,y,lp,jp, tj):\n",
    "    \n",
    "    return 0.5*(1+(-1)**(l+y+lp))*(-1)**(j+0.5)*np.sqrt((2*j+1)*(2*y+1)*(2*jp+1)/(4*np.pi))*tj\n",
    "\n",
    "\n",
    "\n",
    "# s-1/2, s-1/2\n",
    "print('RME for s-1/2,s-1/2 = {:0.5f}'.format(rme(0,0.5,2,0,0.5,0.0)))\n",
    "print('RME for d-5/2,d-5/2 = {:0.5f}'.format(rme(2,2.5,2,2,2.5,0.1951801)))\n",
    "print('RME for d-5/2,d-3/2 = {:0.5f}'.format(rme(2,2.5,2,2,1.5,0.1195228)))"
   ]
  },
  {
   "cell_type": "markdown",
   "metadata": {},
   "source": [
    "##### Using `rme` to get the numerical values\n",
    "\n",
    "To compute the RME for a spherical harmonic Y^{l}, we input `yjj`. The arguments of `yjj` are the bra and ket that define the orbitals we are interested in. Selecting the option `k` lists the possible orbitals.\n",
    "\n",
    "For $< s_{1/2}||Y^{(2)}||s_{1/2} >$, the $s_{1/2}$ orbital correponds to the first orbital (1) in the list.\n",
    "\n",
    "|Input to `rme`|Output from `rme`|From Eq.10.83|   \n",
    "|------------- |------------- |------------- |\n",
    "|1,1,2         |0.00000       |0.00000\n",
    "\n",
    "\n",
    "This makes sense because the $Y^(2)$ operator will not couple two states with $\\ell=0$ angular momentum, which is what we see in the 3j coefficient being zero.\n",
    "\n",
    "For $< d_{5/2}||Y^{(2)}||d_{5/2} >$, the $d_{5/2}$ orbital correponds to the fourth orbital (4) in the list.\n",
    "\n",
    "|Input to `rme`|Output from `rme`|From Eq.10.83|   \n",
    "|------------- |------------- |------------- |\n",
    "|4,4,2         |-0.73870       |-0.73870\n",
    "\n",
    "For $< d_{5/2}||Y^{(2)}||d_{3/2} >$, the $d_{5/2}$ and $d_{3/2}$ orbitals correpond to the fourth and fifth orbitals (4,5) in the list.\n",
    "\n",
    "|Input to `rme`|Output from `rme`|From Eq.10.83|   \n",
    "|------------- |------------- |------------- |\n",
    "|4,5,2         |-0.36935     |-0.36935\n",
    "\n",
    "\n",
    "The numerical results from `rme` are consistent with Eq. 10.83."
   ]
  },
  {
   "cell_type": "markdown",
   "metadata": {},
   "source": [
    "### HW03 question 9\n",
    "\n",
    "When the j-j coupled wavefunction  $|[(\\ell,s,j)(\\ell,s,j)] J >$ is expanded into its L-S\n",
    "coupled form $\\sum_{L,S}a_{L,S} |[(\\ell,\\ell,L)(s,s,S)] J >$, for $\\ell = 2$, $j = 5/2$ and $J = 2$, what are\n",
    "values of $a_{L,S}$."
   ]
  },
  {
   "cell_type": "markdown",
   "metadata": {},
   "source": [
    "The values of $a_{L,S}$ are given by the overlaps of the L-S coupled wavefunctions onto the j-j coupled wavefunctions. The L-S coupled wavefunctions form a complete orthonormal basis, so by multiplying everything by the L-S coupled bra for a specific angular momentum coupling $L,S$, the non-zero coefficients for this j-j coupling configuration are given by\n",
    "\n",
    "$$a_{2,0} =<[(2,2,2)(1/2,1/2,0)] 2 |[(2,1/2,5/2)(2,1/2,5/2)] 2 >$$\n",
    "\n",
    "and\n",
    "\n",
    "$$a_{1,1} =<[(2,2,1)(1/2,1/2,1)] 2 |[(2,1/2,5/2)(2,1/2,5/2)] 2 >.$$\n",
    "\n",
    "To compute these overlaps, we can write them as 9j coefficients and then use the nushellx application `sym` to calculate them.\n",
    "\n",
    "$$a_{2,0} = \\sqrt{(4+1)(2*0+1)(5+1)(5+1)}\\begin{pmatrix} 2 & 1/2 & 5/2 \\\\ 2 & 1/2 & 5/2 \\\\ 2 & 0 & 2 \\end{pmatrix} = \\sqrt{180}0.0516398 = 0.6928206$$\n",
    "\n",
    "$$a_{1,1} = \\sqrt{(2+1)(2+1)(5+1)(5+1)}\\begin{pmatrix} 2 & 1/2 & 5/2 \\\\ 2 & 1/2 & 5/2 \\\\ 1 & 1 & 2 \\end{pmatrix} = \\sqrt{324}0.0371849 = 0.6693282$$"
   ]
  },
  {
   "cell_type": "markdown",
   "metadata": {},
   "source": [
    "### HW03 question 10\n",
    "\n",
    "Calculate $< d_{5/2}||\\vec{\\sigma}||d_{3/2} >$ where $\\vec{\\sigma} = 2\\vec{s}$ is the nucleon spin operator."
   ]
  },
  {
   "cell_type": "markdown",
   "metadata": {},
   "source": [
    "For this problem we use the nushell application `rme`. As in question 8, we can run `rme` with the input `k` to get all possible angular momentum basis functions that `rme` will accept as input. Then, we run with the `tsig` input to get the reduced matrix element for the spin operator.\n",
    "\n",
    "|Input to `rme`|Output from `rme`|  \n",
    "|------------- |------------- |\n",
    "|4,5,2         |-3.09839   |\n"
   ]
  },
  {
   "cell_type": "markdown",
   "metadata": {},
   "source": [
    "### HW03 question 11\n",
    "\n",
    "Derive Eqs. 7.71 from Eq. 7.69."
   ]
  },
  {
   "cell_type": "markdown",
   "metadata": {},
   "source": [
    "The important component of Eq. 7.69 is the matrix element $<J_f M_f | O(\\pi\\lambda)_\\mu|J_i M_i >$, on which we will apply Wigner Eckhart theorem in order to arrive at Eq. 7.71. The operator $O(\\pi\\lambda)$ is a tensor operator of rank $\\lambda$. According to Wigner Eckhart theorem, we write this matrix element as\n",
    "\n",
    "$$<J_f M_f | O(\\pi\\lambda)_\\mu|J_i M_i > = (-1)^{2\\lambda}\\frac{<J_iM_i\\lambda\\mu|J_fM_f>}{\\sqrt{(2J_f+1)}}<J_f||O(\\pi\\lambda)||J_i>$$\n",
    "\n",
    "We take the absolute square of this result and insert back into Eq. 7.69 to find that\n",
    "\n",
    "$$W_{M_i,M_f,\\mu} = \\sum_{\\pi,\\lambda}\\left(\\frac{8\\pi(\\lambda+1)}{\\lambda[(2\\lambda+1)!!]^2}\\right) \\left(\\frac{k^{2\\lambda+1}}{\\hbar}\\right)\\frac{|<J_f||O(\\pi\\lambda)||J_i>|^2}{(2J_f+1)}$$\n",
    "\n",
    "We arrive at Eq. 7.71 realizing that the M and $\\mu$ dependence has been removed, and so the total rate $W=\\sum_{M_i,M_f,\\mu}W_{M_i,M_f,\\mu}$ is equal to the expression above."
   ]
  },
  {
   "cell_type": "code",
   "execution_count": null,
   "metadata": {},
   "outputs": [],
   "source": []
  }
 ],
 "metadata": {
  "kernelspec": {
   "display_name": "Python 3",
   "language": "python",
   "name": "python3"
  },
  "language_info": {
   "codemirror_mode": {
    "name": "ipython",
    "version": 3
   },
   "file_extension": ".py",
   "mimetype": "text/x-python",
   "name": "python",
   "nbconvert_exporter": "python",
   "pygments_lexer": "ipython3",
   "version": "3.8.5"
  }
 },
 "nbformat": 4,
 "nbformat_minor": 4
}
